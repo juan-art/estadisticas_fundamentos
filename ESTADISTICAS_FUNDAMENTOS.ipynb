{
  "nbformat": 4,
  "nbformat_minor": 0,
  "metadata": {
    "colab": {
      "name": "TECNOLGIAS_DE_INFORMACION.ipynb",
      "provenance": []
    },
    "kernelspec": {
      "name": "ir",
      "display_name": "R"
    },
    "language_info": {
      "name": "R"
    }
  },
  "cells": [
    {
      "cell_type": "markdown",
      "metadata": {
        "id": "ew0KI34ICxkF"
      },
      "source": [
        "ESTADÍSTICA - EMANUEL MUÑOZ"
      ]
    },
    {
      "cell_type": "markdown",
      "metadata": {
        "id": "hBsum9wHOcgE"
      },
      "source": [
        "# FUNDAMENTOS DEL R"
      ]
    },
    {
      "cell_type": "code",
      "metadata": {
        "id": "MVjfEDU8OkwM"
      },
      "source": [
        "#Signos de asignación\n",
        "a<-2\n",
        "b<-4\n",
        "c<-9\n",
        "A<-5\n",
        "nombre<-'Emanuel'"
      ],
      "execution_count": null,
      "outputs": []
    },
    {
      "cell_type": "code",
      "metadata": {
        "colab": {
          "base_uri": "https://localhost:8080/",
          "height": 34
        },
        "id": "tz58bT94SwLB",
        "outputId": "440de25b-83fe-4f67-ed6f-d63a094662a7"
      },
      "source": [
        "nombre2<-\"Emanuel\"\n",
        "nombre2"
      ],
      "execution_count": null,
      "outputs": [
        {
          "output_type": "display_data",
          "data": {
            "text/plain": [
              "[1] \"Emanuel\""
            ],
            "text/latex": "'Emanuel'",
            "text/markdown": "'Emanuel'",
            "text/html": [
              "'Emanuel'"
            ]
          },
          "metadata": {
            "tags": []
          }
        }
      ]
    },
    {
      "cell_type": "code",
      "metadata": {
        "colab": {
          "base_uri": "https://localhost:8080/",
          "height": 34
        },
        "id": "1_Bq_uzSP0pT",
        "outputId": "0ae1dc8b-cf3e-4b0c-d4a4-5eb09f23223c"
      },
      "source": [
        "nombre"
      ],
      "execution_count": null,
      "outputs": [
        {
          "output_type": "display_data",
          "data": {
            "text/plain": [
              "[1] \"Emanuel\""
            ],
            "text/latex": "'Emanuel'",
            "text/markdown": "'Emanuel'",
            "text/html": [
              "'Emanuel'"
            ]
          },
          "metadata": {
            "tags": []
          }
        }
      ]
    },
    {
      "cell_type": "code",
      "metadata": {
        "colab": {
          "base_uri": "https://localhost:8080/",
          "height": 191
        },
        "id": "ixBkiUwwQSiZ",
        "outputId": "d824e6e0-5100-46e7-8115-e5636f4d2762"
      },
      "source": [
        "#Operadores básicos en R\n",
        "#+,-,/,*,^,**,sqrt(),log(),log10(),log2(),pi,exp(), abs()\n",
        "#Redondeo\n",
        "#round(pi,2)\n",
        "12+4\n",
        "7-5\n",
        "100/10\n",
        "2*9\n",
        "a*b\n",
        "c^5\n",
        "d<-c*a/b\n",
        "d^5\n",
        "d**5\n",
        "sqrt(56)\n",
        "sqrt(d)"
      ],
      "execution_count": null,
      "outputs": [
        {
          "output_type": "display_data",
          "data": {
            "text/plain": [
              "[1] 16"
            ],
            "text/latex": "16",
            "text/markdown": "16",
            "text/html": [
              "16"
            ]
          },
          "metadata": {
            "tags": []
          }
        },
        {
          "output_type": "display_data",
          "data": {
            "text/plain": [
              "[1] 2"
            ],
            "text/latex": "2",
            "text/markdown": "2",
            "text/html": [
              "2"
            ]
          },
          "metadata": {
            "tags": []
          }
        },
        {
          "output_type": "display_data",
          "data": {
            "text/plain": [
              "[1] 10"
            ],
            "text/latex": "10",
            "text/markdown": "10",
            "text/html": [
              "10"
            ]
          },
          "metadata": {
            "tags": []
          }
        },
        {
          "output_type": "display_data",
          "data": {
            "text/plain": [
              "[1] 18"
            ],
            "text/latex": "18",
            "text/markdown": "18",
            "text/html": [
              "18"
            ]
          },
          "metadata": {
            "tags": []
          }
        },
        {
          "output_type": "display_data",
          "data": {
            "text/plain": [
              "[1] 8"
            ],
            "text/latex": "8",
            "text/markdown": "8",
            "text/html": [
              "8"
            ]
          },
          "metadata": {
            "tags": []
          }
        },
        {
          "output_type": "display_data",
          "data": {
            "text/plain": [
              "[1] 59049"
            ],
            "text/latex": "59049",
            "text/markdown": "59049",
            "text/html": [
              "59049"
            ]
          },
          "metadata": {
            "tags": []
          }
        },
        {
          "output_type": "display_data",
          "data": {
            "text/plain": [
              "[1] 1845.281"
            ],
            "text/latex": "1845.28125",
            "text/markdown": "1845.28125",
            "text/html": [
              "1845.28125"
            ]
          },
          "metadata": {
            "tags": []
          }
        },
        {
          "output_type": "display_data",
          "data": {
            "text/plain": [
              "[1] 1845.281"
            ],
            "text/latex": "1845.28125",
            "text/markdown": "1845.28125",
            "text/html": [
              "1845.28125"
            ]
          },
          "metadata": {
            "tags": []
          }
        },
        {
          "output_type": "display_data",
          "data": {
            "text/plain": [
              "[1] 7.483315"
            ],
            "text/latex": "7.48331477354788",
            "text/markdown": "7.48331477354788",
            "text/html": [
              "7.48331477354788"
            ]
          },
          "metadata": {
            "tags": []
          }
        },
        {
          "output_type": "display_data",
          "data": {
            "text/plain": [
              "[1] 2.12132"
            ],
            "text/latex": "2.12132034355964",
            "text/markdown": "2.12132034355964",
            "text/html": [
              "2.12132034355964"
            ]
          },
          "metadata": {
            "tags": []
          }
        }
      ]
    },
    {
      "cell_type": "code",
      "metadata": {
        "colab": {
          "base_uri": "https://localhost:8080/",
          "height": 52
        },
        "id": "PgmRsPjcTspT",
        "outputId": "f19de3b9-0e4d-498f-d2a3-639f9e85bae9"
      },
      "source": [
        "c^8\n",
        "h<-c^(1/5)\n",
        "h"
      ],
      "execution_count": null,
      "outputs": [
        {
          "output_type": "display_data",
          "data": {
            "text/plain": [
              "[1] 43046721"
            ],
            "text/latex": "43046721",
            "text/markdown": "43046721",
            "text/html": [
              "43046721"
            ]
          },
          "metadata": {
            "tags": []
          }
        },
        {
          "output_type": "display_data",
          "data": {
            "text/plain": [
              "[1] 1.551846"
            ],
            "text/latex": "1.55184557391536",
            "text/markdown": "1.55184557391536",
            "text/html": [
              "1.55184557391536"
            ]
          },
          "metadata": {
            "tags": []
          }
        }
      ]
    },
    {
      "cell_type": "code",
      "metadata": {
        "colab": {
          "base_uri": "https://localhost:8080/",
          "height": 34
        },
        "id": "ygXBdue0UYJN",
        "outputId": "3665afd4-4583-4cce-bea1-7a6c0941574f"
      },
      "source": [
        "#Vector\n",
        "nombres<-c('EMANUEL','CARLOS','MARIA','DANIELA','GEMA')\n",
        "nombres\n",
        "edad<-c(26,38,34,30,24,39,29,26,25,36,26,37,37,36,39,33,30,37,28)"
      ],
      "execution_count": null,
      "outputs": [
        {
          "output_type": "display_data",
          "data": {
            "text/plain": [
              "[1] \"EMANUEL\" \"CARLOS\"  \"MARIA\"   \"DANIELA\" \"GEMA\"   "
            ],
            "text/latex": "\\begin{enumerate*}\n\\item 'EMANUEL'\n\\item 'CARLOS'\n\\item 'MARIA'\n\\item 'DANIELA'\n\\item 'GEMA'\n\\end{enumerate*}\n",
            "text/markdown": "1. 'EMANUEL'\n2. 'CARLOS'\n3. 'MARIA'\n4. 'DANIELA'\n5. 'GEMA'\n\n\n",
            "text/html": [
              "<style>\n",
              ".list-inline {list-style: none; margin:0; padding: 0}\n",
              ".list-inline>li {display: inline-block}\n",
              ".list-inline>li:not(:last-child)::after {content: \"\\00b7\"; padding: 0 .5ex}\n",
              "</style>\n",
              "<ol class=list-inline><li>'EMANUEL'</li><li>'CARLOS'</li><li>'MARIA'</li><li>'DANIELA'</li><li>'GEMA'</li></ol>\n"
            ]
          },
          "metadata": {
            "tags": []
          }
        }
      ]
    },
    {
      "cell_type": "code",
      "metadata": {
        "colab": {
          "base_uri": "https://localhost:8080/",
          "height": 69
        },
        "id": "srmuAdACWd1W",
        "outputId": "6541077b-c003-41c2-961d-ba460a0f2a73"
      },
      "source": [
        "edad\n",
        "#contar el número de elementos de un  vector\n",
        "n<-length(edad)\n",
        "n\n",
        "media<-round(sum(edad)/n)\n",
        "media"
      ],
      "execution_count": null,
      "outputs": [
        {
          "output_type": "display_data",
          "data": {
            "text/plain": [
              " [1] 26 38 34 30 24 39 29 26 25 36 26 37 37 36 39 33 30 37 28"
            ],
            "text/latex": "\\begin{enumerate*}\n\\item 26\n\\item 38\n\\item 34\n\\item 30\n\\item 24\n\\item 39\n\\item 29\n\\item 26\n\\item 25\n\\item 36\n\\item 26\n\\item 37\n\\item 37\n\\item 36\n\\item 39\n\\item 33\n\\item 30\n\\item 37\n\\item 28\n\\end{enumerate*}\n",
            "text/markdown": "1. 26\n2. 38\n3. 34\n4. 30\n5. 24\n6. 39\n7. 29\n8. 26\n9. 25\n10. 36\n11. 26\n12. 37\n13. 37\n14. 36\n15. 39\n16. 33\n17. 30\n18. 37\n19. 28\n\n\n",
            "text/html": [
              "<style>\n",
              ".list-inline {list-style: none; margin:0; padding: 0}\n",
              ".list-inline>li {display: inline-block}\n",
              ".list-inline>li:not(:last-child)::after {content: \"\\00b7\"; padding: 0 .5ex}\n",
              "</style>\n",
              "<ol class=list-inline><li>26</li><li>38</li><li>34</li><li>30</li><li>24</li><li>39</li><li>29</li><li>26</li><li>25</li><li>36</li><li>26</li><li>37</li><li>37</li><li>36</li><li>39</li><li>33</li><li>30</li><li>37</li><li>28</li></ol>\n"
            ]
          },
          "metadata": {
            "tags": []
          }
        },
        {
          "output_type": "display_data",
          "data": {
            "text/plain": [
              "[1] 19"
            ],
            "text/latex": "19",
            "text/markdown": "19",
            "text/html": [
              "19"
            ]
          },
          "metadata": {
            "tags": []
          }
        },
        {
          "output_type": "display_data",
          "data": {
            "text/plain": [
              "[1] 32"
            ],
            "text/latex": "32",
            "text/markdown": "32",
            "text/html": [
              "32"
            ]
          },
          "metadata": {
            "tags": []
          }
        }
      ]
    },
    {
      "cell_type": "code",
      "metadata": {
        "colab": {
          "base_uri": "https://localhost:8080/",
          "height": 34
        },
        "id": "Ofe18Sk-XZo5",
        "outputId": "ff84000b-98eb-414b-841b-1d27aada971f"
      },
      "source": [
        "edad^2"
      ],
      "execution_count": null,
      "outputs": [
        {
          "output_type": "display_data",
          "data": {
            "text/plain": [
              " [1]  676 1444 1156  900  576 1521  841  676  625 1296  676 1369 1369 1296 1521\n",
              "[16] 1089  900 1369  784"
            ],
            "text/latex": "\\begin{enumerate*}\n\\item 676\n\\item 1444\n\\item 1156\n\\item 900\n\\item 576\n\\item 1521\n\\item 841\n\\item 676\n\\item 625\n\\item 1296\n\\item 676\n\\item 1369\n\\item 1369\n\\item 1296\n\\item 1521\n\\item 1089\n\\item 900\n\\item 1369\n\\item 784\n\\end{enumerate*}\n",
            "text/markdown": "1. 676\n2. 1444\n3. 1156\n4. 900\n5. 576\n6. 1521\n7. 841\n8. 676\n9. 625\n10. 1296\n11. 676\n12. 1369\n13. 1369\n14. 1296\n15. 1521\n16. 1089\n17. 900\n18. 1369\n19. 784\n\n\n",
            "text/html": [
              "<style>\n",
              ".list-inline {list-style: none; margin:0; padding: 0}\n",
              ".list-inline>li {display: inline-block}\n",
              ".list-inline>li:not(:last-child)::after {content: \"\\00b7\"; padding: 0 .5ex}\n",
              "</style>\n",
              "<ol class=list-inline><li>676</li><li>1444</li><li>1156</li><li>900</li><li>576</li><li>1521</li><li>841</li><li>676</li><li>625</li><li>1296</li><li>676</li><li>1369</li><li>1369</li><li>1296</li><li>1521</li><li>1089</li><li>900</li><li>1369</li><li>784</li></ol>\n"
            ]
          },
          "metadata": {
            "tags": []
          }
        }
      ]
    },
    {
      "cell_type": "code",
      "metadata": {
        "colab": {
          "base_uri": "https://localhost:8080/"
        },
        "id": "dpoWHwzWW2kJ",
        "outputId": "55c699e8-74b4-452c-8eb5-5d0c4ef1e960"
      },
      "source": [
        "#Factor\n",
        "SEXO<-c('F','F','M','M','M','M')\n",
        "str(SEXO)\n",
        "SEXO2<-factor(c('F','F','M','M','M','M'))\n",
        "str(SEXO2)"
      ],
      "execution_count": null,
      "outputs": [
        {
          "output_type": "stream",
          "text": [
            " chr [1:6] \"F\" \"F\" \"M\" \"M\" \"M\" \"M\"\n",
            " Factor w/ 2 levels \"F\",\"M\": 1 1 2 2 2 2\n"
          ],
          "name": "stdout"
        }
      ]
    },
    {
      "cell_type": "code",
      "metadata": {
        "colab": {
          "base_uri": "https://localhost:8080/",
          "height": 132
        },
        "id": "aCnhXR-5ZMLp",
        "outputId": "d9b7a4e7-5f7a-4353-af32-59f2bcca665e"
      },
      "source": [
        "A<-matrix(c(2,4,3,1,5,7),nrow=2)\n",
        "A"
      ],
      "execution_count": null,
      "outputs": [
        {
          "output_type": "display_data",
          "data": {
            "text/plain": [
              "     [,1] [,2] [,3]\n",
              "[1,] 2    3    5   \n",
              "[2,] 4    1    7   "
            ],
            "text/latex": "A matrix: 2 × 3 of type dbl\n\\begin{tabular}{lll}\n\t 2 & 3 & 5\\\\\n\t 4 & 1 & 7\\\\\n\\end{tabular}\n",
            "text/markdown": "\nA matrix: 2 × 3 of type dbl\n\n| 2 | 3 | 5 |\n| 4 | 1 | 7 |\n\n",
            "text/html": [
              "<table class=\"dataframe\">\n",
              "<caption>A matrix: 2 × 3 of type dbl</caption>\n",
              "<tbody>\n",
              "\t<tr><td>2</td><td>3</td><td>5</td></tr>\n",
              "\t<tr><td>4</td><td>1</td><td>7</td></tr>\n",
              "</tbody>\n",
              "</table>\n"
            ]
          },
          "metadata": {
            "tags": []
          }
        }
      ]
    },
    {
      "cell_type": "code",
      "metadata": {
        "colab": {
          "base_uri": "https://localhost:8080/",
          "height": 342
        },
        "id": "wYhdhCEoaAGI",
        "outputId": "8f1a8d33-9e84-49cb-fec6-daa262ffe385"
      },
      "source": [
        "x1<-c(1:10)\n",
        "x1\n",
        "x2<-c(rep(8,10))\n",
        "x2\n",
        "x3<-letters[1:10]\n",
        "x3\n",
        "M2<-cbind(x1,x2,x3)\n",
        "print(M2)\n",
        "str(M2)"
      ],
      "execution_count": null,
      "outputs": [
        {
          "output_type": "display_data",
          "data": {
            "text/plain": [
              " [1]  1  2  3  4  5  6  7  8  9 10"
            ],
            "text/latex": "\\begin{enumerate*}\n\\item 1\n\\item 2\n\\item 3\n\\item 4\n\\item 5\n\\item 6\n\\item 7\n\\item 8\n\\item 9\n\\item 10\n\\end{enumerate*}\n",
            "text/markdown": "1. 1\n2. 2\n3. 3\n4. 4\n5. 5\n6. 6\n7. 7\n8. 8\n9. 9\n10. 10\n\n\n",
            "text/html": [
              "<style>\n",
              ".list-inline {list-style: none; margin:0; padding: 0}\n",
              ".list-inline>li {display: inline-block}\n",
              ".list-inline>li:not(:last-child)::after {content: \"\\00b7\"; padding: 0 .5ex}\n",
              "</style>\n",
              "<ol class=list-inline><li>1</li><li>2</li><li>3</li><li>4</li><li>5</li><li>6</li><li>7</li><li>8</li><li>9</li><li>10</li></ol>\n"
            ]
          },
          "metadata": {
            "tags": []
          }
        },
        {
          "output_type": "display_data",
          "data": {
            "text/plain": [
              " [1] 8 8 8 8 8 8 8 8 8 8"
            ],
            "text/latex": "\\begin{enumerate*}\n\\item 8\n\\item 8\n\\item 8\n\\item 8\n\\item 8\n\\item 8\n\\item 8\n\\item 8\n\\item 8\n\\item 8\n\\end{enumerate*}\n",
            "text/markdown": "1. 8\n2. 8\n3. 8\n4. 8\n5. 8\n6. 8\n7. 8\n8. 8\n9. 8\n10. 8\n\n\n",
            "text/html": [
              "<style>\n",
              ".list-inline {list-style: none; margin:0; padding: 0}\n",
              ".list-inline>li {display: inline-block}\n",
              ".list-inline>li:not(:last-child)::after {content: \"\\00b7\"; padding: 0 .5ex}\n",
              "</style>\n",
              "<ol class=list-inline><li>8</li><li>8</li><li>8</li><li>8</li><li>8</li><li>8</li><li>8</li><li>8</li><li>8</li><li>8</li></ol>\n"
            ]
          },
          "metadata": {
            "tags": []
          }
        },
        {
          "output_type": "display_data",
          "data": {
            "text/plain": [
              " [1] \"a\" \"b\" \"c\" \"d\" \"e\" \"f\" \"g\" \"h\" \"i\" \"j\""
            ],
            "text/latex": "\\begin{enumerate*}\n\\item 'a'\n\\item 'b'\n\\item 'c'\n\\item 'd'\n\\item 'e'\n\\item 'f'\n\\item 'g'\n\\item 'h'\n\\item 'i'\n\\item 'j'\n\\end{enumerate*}\n",
            "text/markdown": "1. 'a'\n2. 'b'\n3. 'c'\n4. 'd'\n5. 'e'\n6. 'f'\n7. 'g'\n8. 'h'\n9. 'i'\n10. 'j'\n\n\n",
            "text/html": [
              "<style>\n",
              ".list-inline {list-style: none; margin:0; padding: 0}\n",
              ".list-inline>li {display: inline-block}\n",
              ".list-inline>li:not(:last-child)::after {content: \"\\00b7\"; padding: 0 .5ex}\n",
              "</style>\n",
              "<ol class=list-inline><li>'a'</li><li>'b'</li><li>'c'</li><li>'d'</li><li>'e'</li><li>'f'</li><li>'g'</li><li>'h'</li><li>'i'</li><li>'j'</li></ol>\n"
            ]
          },
          "metadata": {
            "tags": []
          }
        },
        {
          "output_type": "stream",
          "text": [
            "      x1   x2  x3 \n",
            " [1,] \"1\"  \"8\" \"a\"\n",
            " [2,] \"2\"  \"8\" \"b\"\n",
            " [3,] \"3\"  \"8\" \"c\"\n",
            " [4,] \"4\"  \"8\" \"d\"\n",
            " [5,] \"5\"  \"8\" \"e\"\n",
            " [6,] \"6\"  \"8\" \"f\"\n",
            " [7,] \"7\"  \"8\" \"g\"\n",
            " [8,] \"8\"  \"8\" \"h\"\n",
            " [9,] \"9\"  \"8\" \"i\"\n",
            "[10,] \"10\" \"8\" \"j\"\n",
            " chr [1:10, 1:3] \"1\" \"2\" \"3\" \"4\" \"5\" \"6\" \"7\" \"8\" \"9\" \"10\" \"8\" \"8\" \"8\" \"8\" ...\n",
            " - attr(*, \"dimnames\")=List of 2\n",
            "  ..$ : NULL\n",
            "  ..$ : chr [1:3] \"x1\" \"x2\" \"x3\"\n"
          ],
          "name": "stdout"
        }
      ]
    },
    {
      "cell_type": "code",
      "metadata": {
        "colab": {
          "base_uri": "https://localhost:8080/",
          "height": 484
        },
        "id": "w5P6cAoAa9-0",
        "outputId": "1d583a00-2827-4f76-d322-4addd54af3fd"
      },
      "source": [
        "#DATAFRAME\n",
        "M4<-data.frame(x1,x2,x3)\n",
        "M4\n",
        "str(M4)"
      ],
      "execution_count": null,
      "outputs": [
        {
          "output_type": "display_data",
          "data": {
            "text/plain": [
              "   x1 x2 x3\n",
              "1   1 8  a \n",
              "2   2 8  b \n",
              "3   3 8  c \n",
              "4   4 8  d \n",
              "5   5 8  e \n",
              "6   6 8  f \n",
              "7   7 8  g \n",
              "8   8 8  h \n",
              "9   9 8  i \n",
              "10 10 8  j "
            ],
            "text/latex": "A data.frame: 10 × 3\n\\begin{tabular}{lll}\n x1 & x2 & x3\\\\\n <int> & <dbl> & <chr>\\\\\n\\hline\n\t  1 & 8 & a\\\\\n\t  2 & 8 & b\\\\\n\t  3 & 8 & c\\\\\n\t  4 & 8 & d\\\\\n\t  5 & 8 & e\\\\\n\t  6 & 8 & f\\\\\n\t  7 & 8 & g\\\\\n\t  8 & 8 & h\\\\\n\t  9 & 8 & i\\\\\n\t 10 & 8 & j\\\\\n\\end{tabular}\n",
            "text/markdown": "\nA data.frame: 10 × 3\n\n| x1 &lt;int&gt; | x2 &lt;dbl&gt; | x3 &lt;chr&gt; |\n|---|---|---|\n|  1 | 8 | a |\n|  2 | 8 | b |\n|  3 | 8 | c |\n|  4 | 8 | d |\n|  5 | 8 | e |\n|  6 | 8 | f |\n|  7 | 8 | g |\n|  8 | 8 | h |\n|  9 | 8 | i |\n| 10 | 8 | j |\n\n",
            "text/html": [
              "<table class=\"dataframe\">\n",
              "<caption>A data.frame: 10 × 3</caption>\n",
              "<thead>\n",
              "\t<tr><th scope=col>x1</th><th scope=col>x2</th><th scope=col>x3</th></tr>\n",
              "\t<tr><th scope=col>&lt;int&gt;</th><th scope=col>&lt;dbl&gt;</th><th scope=col>&lt;chr&gt;</th></tr>\n",
              "</thead>\n",
              "<tbody>\n",
              "\t<tr><td> 1</td><td>8</td><td>a</td></tr>\n",
              "\t<tr><td> 2</td><td>8</td><td>b</td></tr>\n",
              "\t<tr><td> 3</td><td>8</td><td>c</td></tr>\n",
              "\t<tr><td> 4</td><td>8</td><td>d</td></tr>\n",
              "\t<tr><td> 5</td><td>8</td><td>e</td></tr>\n",
              "\t<tr><td> 6</td><td>8</td><td>f</td></tr>\n",
              "\t<tr><td> 7</td><td>8</td><td>g</td></tr>\n",
              "\t<tr><td> 8</td><td>8</td><td>h</td></tr>\n",
              "\t<tr><td> 9</td><td>8</td><td>i</td></tr>\n",
              "\t<tr><td>10</td><td>8</td><td>j</td></tr>\n",
              "</tbody>\n",
              "</table>\n"
            ]
          },
          "metadata": {
            "tags": []
          }
        },
        {
          "output_type": "stream",
          "text": [
            "'data.frame':\t10 obs. of  3 variables:\n",
            " $ x1: int  1 2 3 4 5 6 7 8 9 10\n",
            " $ x2: num  8 8 8 8 8 8 8 8 8 8\n",
            " $ x3: chr  \"a\" \"b\" \"c\" \"d\" ...\n"
          ],
          "name": "stdout"
        }
      ]
    },
    {
      "cell_type": "code",
      "metadata": {
        "colab": {
          "base_uri": "https://localhost:8080/",
          "height": 278
        },
        "id": "gQfgdQe7b-Fu",
        "outputId": "af4cf3c0-6932-42ec-c6a2-831e1843bb6d"
      },
      "source": [
        "#Lista\n",
        "L1<-list(1,2,pi,'hola',c(12,25.23,8),matrix(c(4,2,5.5,7,9,5),ncol=2))\n",
        "L1"
      ],
      "execution_count": null,
      "outputs": [
        {
          "output_type": "display_data",
          "data": {
            "text/plain": [
              "[[1]]\n",
              "[1] 1\n",
              "\n",
              "[[2]]\n",
              "[1] 2\n",
              "\n",
              "[[3]]\n",
              "[1] 3.141593\n",
              "\n",
              "[[4]]\n",
              "[1] \"hola\"\n",
              "\n",
              "[[5]]\n",
              "[1] 12.00 25.23  8.00\n",
              "\n",
              "[[6]]\n",
              "     [,1] [,2]\n",
              "[1,]  4.0    7\n",
              "[2,]  2.0    9\n",
              "[3,]  5.5    5\n"
            ],
            "text/latex": "\\begin{enumerate}\n\\item 1\n\\item 2\n\\item 3.14159265358979\n\\item 'hola'\n\\item \\begin{enumerate*}\n\\item 12\n\\item 25.23\n\\item 8\n\\end{enumerate*}\n\n\\item A matrix: 3 × 2 of type dbl\n\\begin{tabular}{ll}\n\t 4.0 & 7\\\\\n\t 2.0 & 9\\\\\n\t 5.5 & 5\\\\\n\\end{tabular}\n\n\\end{enumerate}\n",
            "text/markdown": "1. 1\n2. 2\n3. 3.14159265358979\n4. 'hola'\n5. 1. 12\n2. 25.23\n3. 8\n\n\n\n6. \nA matrix: 3 × 2 of type dbl\n\n| 4.0 | 7 |\n| 2.0 | 9 |\n| 5.5 | 5 |\n\n\n\n\n",
            "text/html": [
              "<ol>\n",
              "\t<li>1</li>\n",
              "\t<li>2</li>\n",
              "\t<li>3.14159265358979</li>\n",
              "\t<li>'hola'</li>\n",
              "\t<li><style>\n",
              ".list-inline {list-style: none; margin:0; padding: 0}\n",
              ".list-inline>li {display: inline-block}\n",
              ".list-inline>li:not(:last-child)::after {content: \"\\00b7\"; padding: 0 .5ex}\n",
              "</style>\n",
              "<ol class=list-inline><li>12</li><li>25.23</li><li>8</li></ol>\n",
              "</li>\n",
              "\t<li><table class=\"dataframe\">\n",
              "<caption>A matrix: 3 × 2 of type dbl</caption>\n",
              "<tbody>\n",
              "\t<tr><td>4.0</td><td>7</td></tr>\n",
              "\t<tr><td>2.0</td><td>9</td></tr>\n",
              "\t<tr><td>5.5</td><td>5</td></tr>\n",
              "</tbody>\n",
              "</table>\n",
              "</li>\n",
              "</ol>\n"
            ]
          },
          "metadata": {
            "tags": []
          }
        }
      ]
    },
    {
      "cell_type": "code",
      "metadata": {
        "colab": {
          "base_uri": "https://localhost:8080/",
          "height": 1000
        },
        "id": "NALvyHHagz9k",
        "outputId": "5d78b9d2-74e9-4b8e-d089-668a529841f8"
      },
      "source": [
        "#print(iris)\n",
        "#help(iris)\n",
        "#print(iris)\n",
        "dim(iris)\n",
        "names(iris)\n",
        "str(iris)\n",
        "especies<-iris$Species\n",
        "#especies\n",
        "fi<-table(especies)\n",
        "fi\n",
        "pie(fi,main='VARIABLE')\n",
        "barplot(fi,main='VARIABLE')\n",
        "#help(pie)\n",
        "summary(iris)"
      ],
      "execution_count": null,
      "outputs": [
        {
          "output_type": "display_data",
          "data": {
            "text/plain": [
              "[1] 150   5"
            ],
            "text/latex": "\\begin{enumerate*}\n\\item 150\n\\item 5\n\\end{enumerate*}\n",
            "text/markdown": "1. 150\n2. 5\n\n\n",
            "text/html": [
              "<style>\n",
              ".list-inline {list-style: none; margin:0; padding: 0}\n",
              ".list-inline>li {display: inline-block}\n",
              ".list-inline>li:not(:last-child)::after {content: \"\\00b7\"; padding: 0 .5ex}\n",
              "</style>\n",
              "<ol class=list-inline><li>150</li><li>5</li></ol>\n"
            ]
          },
          "metadata": {
            "tags": []
          }
        },
        {
          "output_type": "display_data",
          "data": {
            "text/plain": [
              "[1] \"Sepal.Length\" \"Sepal.Width\"  \"Petal.Length\" \"Petal.Width\"  \"Species\"     "
            ],
            "text/latex": "\\begin{enumerate*}\n\\item 'Sepal.Length'\n\\item 'Sepal.Width'\n\\item 'Petal.Length'\n\\item 'Petal.Width'\n\\item 'Species'\n\\end{enumerate*}\n",
            "text/markdown": "1. 'Sepal.Length'\n2. 'Sepal.Width'\n3. 'Petal.Length'\n4. 'Petal.Width'\n5. 'Species'\n\n\n",
            "text/html": [
              "<style>\n",
              ".list-inline {list-style: none; margin:0; padding: 0}\n",
              ".list-inline>li {display: inline-block}\n",
              ".list-inline>li:not(:last-child)::after {content: \"\\00b7\"; padding: 0 .5ex}\n",
              "</style>\n",
              "<ol class=list-inline><li>'Sepal.Length'</li><li>'Sepal.Width'</li><li>'Petal.Length'</li><li>'Petal.Width'</li><li>'Species'</li></ol>\n"
            ]
          },
          "metadata": {
            "tags": []
          }
        },
        {
          "output_type": "stream",
          "text": [
            "'data.frame':\t150 obs. of  5 variables:\n",
            " $ Sepal.Length: num  5.1 4.9 4.7 4.6 5 5.4 4.6 5 4.4 4.9 ...\n",
            " $ Sepal.Width : num  3.5 3 3.2 3.1 3.6 3.9 3.4 3.4 2.9 3.1 ...\n",
            " $ Petal.Length: num  1.4 1.4 1.3 1.5 1.4 1.7 1.4 1.5 1.4 1.5 ...\n",
            " $ Petal.Width : num  0.2 0.2 0.2 0.2 0.2 0.4 0.3 0.2 0.2 0.1 ...\n",
            " $ Species     : Factor w/ 3 levels \"setosa\",\"versicolor\",..: 1 1 1 1 1 1 1 1 1 1 ...\n"
          ],
          "name": "stdout"
        },
        {
          "output_type": "display_data",
          "data": {
            "text/plain": [
              "especies\n",
              "    setosa versicolor  virginica \n",
              "        50         50         50 "
            ]
          },
          "metadata": {
            "tags": []
          }
        },
        {
          "output_type": "display_data",
          "data": {
            "image/png": "[encoded data removed]",
            "text/plain": [
              "Plot with title “VARIABLE”"
            ]
          },
          "metadata": {
            "tags": [],
            "image/png": {
              "width": 420,
              "height": 420
            }
          }
        },
        {
          "output_type": "display_data",
          "data": {
            "text/plain": [
              "  Sepal.Length    Sepal.Width     Petal.Length    Petal.Width   \n",
              " Min.   :4.300   Min.   :2.000   Min.   :1.000   Min.   :0.100  \n",
              " 1st Qu.:5.100   1st Qu.:2.800   1st Qu.:1.600   1st Qu.:0.300  \n",
              " Median :5.800   Median :3.000   Median :4.350   Median :1.300  \n",
              " Mean   :5.843   Mean   :3.057   Mean   :3.758   Mean   :1.199  \n",
              " 3rd Qu.:6.400   3rd Qu.:3.300   3rd Qu.:5.100   3rd Qu.:1.800  \n",
              " Max.   :7.900   Max.   :4.400   Max.   :6.900   Max.   :2.500  \n",
              "       Species  \n",
              " setosa    :50  \n",
              " versicolor:50  \n",
              " virginica :50  \n",
              "                \n",
              "                \n",
              "                "
            ]
          },
          "metadata": {
            "tags": []
          }
        },
        {
          "output_type": "display_data",
          "data": {
            "image/png": "[encoded data removed]",
            "text/plain": [
              "Plot with title “VARIABLE”"
            ]
          },
          "metadata": {
            "tags": [],
            "image/png": {
              "width": 420,
              "height": 420
            }
          }
        }
      ]
    },
    {
      "cell_type": "code",
      "metadata": {
        "colab": {
          "base_uri": "https://localhost:8080/",
          "height": 365
        },
        "id": "nY4FmVJZj_ON",
        "outputId": "7060c9de-6bc2-438c-fbc8-e8347f5ad859"
      },
      "source": [
        "#Leer bases de datos desde github\n",
        "url1<-'https://raw.githubusercontent.com/Emax1/R/master/Datos%20Registro3.csv'\n",
        "registro<-read.csv(url1,header = TRUE,sep=';',dec=',',stringsAsFactors = TRUE)\n",
        "dim(registro)\n",
        "names(registro)\n",
        "str(registro)"
      ],
      "execution_count": null,
      "outputs": [
        {
          "output_type": "display_data",
          "data": {
            "text/plain": [
              "[1] 32 14"
            ],
            "text/latex": "\\begin{enumerate*}\n\\item 32\n\\item 14\n\\end{enumerate*}\n",
            "text/markdown": "1. 32\n2. 14\n\n\n",
            "text/html": [
              "<style>\n",
              ".list-inline {list-style: none; margin:0; padding: 0}\n",
              ".list-inline>li {display: inline-block}\n",
              ".list-inline>li:not(:last-child)::after {content: \"\\00b7\"; padding: 0 .5ex}\n",
              "</style>\n",
              "<ol class=list-inline><li>32</li><li>14</li></ol>\n"
            ]
          },
          "metadata": {
            "tags": []
          }
        },
        {
          "output_type": "display_data",
          "data": {
            "text/plain": [
              " [1] \"Marca.temporal\"               \"Nombre.completo\"             \n",
              " [3] \"Provincia.donde.se.encuentra\" \"Ciudad\"                      \n",
              " [5] \"Nacimiento\"                   \"edad\"                        \n",
              " [7] \"peso\"                         \"Estatura\"                    \n",
              " [9] \"nhermanos\"                    \"Profesion\"                   \n",
              "[11] \"Color\"                        \"SeminarioSTAT\"               \n",
              "[13] \"Excel\"                        \"Sexo\"                        "
            ],
            "text/latex": "\\begin{enumerate*}\n\\item 'Marca.temporal'\n\\item 'Nombre.completo'\n\\item 'Provincia.donde.se.encuentra'\n\\item 'Ciudad'\n\\item 'Nacimiento'\n\\item 'edad'\n\\item 'peso'\n\\item 'Estatura'\n\\item 'nhermanos'\n\\item 'Profesion'\n\\item 'Color'\n\\item 'SeminarioSTAT'\n\\item 'Excel'\n\\item 'Sexo'\n\\end{enumerate*}\n",
            "text/markdown": "1. 'Marca.temporal'\n2. 'Nombre.completo'\n3. 'Provincia.donde.se.encuentra'\n4. 'Ciudad'\n5. 'Nacimiento'\n6. 'edad'\n7. 'peso'\n8. 'Estatura'\n9. 'nhermanos'\n10. 'Profesion'\n11. 'Color'\n12. 'SeminarioSTAT'\n13. 'Excel'\n14. 'Sexo'\n\n\n",
            "text/html": [
              "<style>\n",
              ".list-inline {list-style: none; margin:0; padding: 0}\n",
              ".list-inline>li {display: inline-block}\n",
              ".list-inline>li:not(:last-child)::after {content: \"\\00b7\"; padding: 0 .5ex}\n",
              "</style>\n",
              "<ol class=list-inline><li>'Marca.temporal'</li><li>'Nombre.completo'</li><li>'Provincia.donde.se.encuentra'</li><li>'Ciudad'</li><li>'Nacimiento'</li><li>'edad'</li><li>'peso'</li><li>'Estatura'</li><li>'nhermanos'</li><li>'Profesion'</li><li>'Color'</li><li>'SeminarioSTAT'</li><li>'Excel'</li><li>'Sexo'</li></ol>\n"
            ]
          },
          "metadata": {
            "tags": []
          }
        },
        {
          "output_type": "stream",
          "text": [
            "'data.frame':\t32 obs. of  14 variables:\n",
            " $ Marca.temporal              : Factor w/ 31 levels \"4/25/2020 14:37:15\",..: 1 2 3 4 5 6 7 8 8 9 ...\n",
            " $ Nombre.completo             : Factor w/ 31 levels \"ANCHUNDIA ZAMBRANO JOSE RAMON\",..: 7 15 6 14 13 25 16 26 1 12 ...\n",
            " $ Provincia.donde.se.encuentra: Factor w/ 2 levels \"Manabi\",\"Manabi \": 2 2 2 1 1 2 2 2 2 2 ...\n",
            " $ Ciudad                      : Factor w/ 5 levels \"Bahia\",\"Manta\",..: 1 4 2 4 4 4 4 4 5 2 ...\n",
            " $ Nacimiento                  : int  1987 1998 1996 1985 1990 1984 1986 1984 1990 1971 ...\n",
            " $ edad                        : int  33 22 24 35 30 36 34 36 30 49 ...\n",
            " $ peso                        : int  87 54 75 84 87 80 90 65 90 46 ...\n",
            " $ Estatura                    : int  172 155 172 171 170 165 178 157 165 148 ...\n",
            " $ nhermanos                   : int  1 2 2 1 2 3 3 7 2 7 ...\n",
            " $ Profesion                   : Factor w/ 5 levels \"Arquitectura\",..: 5 3 4 4 4 4 4 4 4 1 ...\n",
            " $ Color                       : Factor w/ 10 levels \"Amarillo\",\"Azul\",..: 10 3 2 10 7 2 2 10 8 2 ...\n",
            " $ SeminarioSTAT               : Factor w/ 2 levels \"No\",\"Si\": 2 2 1 1 1 1 1 1 1 1 ...\n",
            " $ Excel                       : Factor w/ 3 levels \"Muy frecuente\",..: 1 1 1 1 1 1 1 1 1 3 ...\n",
            " $ Sexo                        : Factor w/ 2 levels \"Femenino\",\"Masculino\": 2 1 2 2 2 2 2 2 2 1 ...\n"
          ],
          "name": "stdout"
        }
      ]
    },
    {
      "cell_type": "code",
      "metadata": {
        "colab": {
          "base_uri": "https://localhost:8080/",
          "height": 839
        },
        "id": "lsqg800oqgnb",
        "outputId": "e259309a-e4f8-4424-87e1-4b18697cb436"
      },
      "source": [
        "ciudad<-registro$Ciudad\n",
        "ciudad\n",
        "fi<-table(ciudad)\n",
        "fi\n",
        "n<-length(ciudad)\n",
        "n\n",
        "hi<-fi/n\n",
        "hi\n",
        "pi1<-hi*100\n",
        "cbind(fi,hi,pi1)\n",
        "pie(fi)"
      ],
      "execution_count": null,
      "outputs": [
        {
          "output_type": "display_data",
          "data": {
            "text/plain": [
              " [1] Bahia       Portoviejo  Manta       Portoviejo  Portoviejo  Portoviejo \n",
              " [7] Portoviejo  Portoviejo  Rocafuerte  Manta       Rocafuerte  Portoviejo \n",
              "[13] Portoviejo  Portoviejo  Portoviejo  Portoviejo  Portoviejo  Rocafuerte \n",
              "[19] Montecristi Manta       Manta       Portoviejo  Portoviejo  Portoviejo \n",
              "[25] Manta       Portoviejo  Portoviejo  Montecristi Portoviejo  Portoviejo \n",
              "[31] Portoviejo  Manta      \n",
              "Levels: Bahia Manta Montecristi Portoviejo Rocafuerte"
            ],
            "text/latex": "\\begin{enumerate*}\n\\item Bahia\n\\item Portoviejo\n\\item Manta\n\\item Portoviejo\n\\item Portoviejo\n\\item Portoviejo\n\\item Portoviejo\n\\item Portoviejo\n\\item Rocafuerte\n\\item Manta\n\\item Rocafuerte\n\\item Portoviejo\n\\item Portoviejo\n\\item Portoviejo\n\\item Portoviejo\n\\item Portoviejo\n\\item Portoviejo\n\\item Rocafuerte\n\\item Montecristi\n\\item Manta\n\\item Manta\n\\item Portoviejo\n\\item Portoviejo\n\\item Portoviejo\n\\item Manta\n\\item Portoviejo\n\\item Portoviejo\n\\item Montecristi\n\\item Portoviejo\n\\item Portoviejo\n\\item Portoviejo\n\\item Manta\n\\end{enumerate*}\n\n\\emph{Levels}: \\begin{enumerate*}\n\\item 'Bahia'\n\\item 'Manta'\n\\item 'Montecristi'\n\\item 'Portoviejo'\n\\item 'Rocafuerte'\n\\end{enumerate*}\n",
            "text/markdown": "1. Bahia\n2. Portoviejo\n3. Manta\n4. Portoviejo\n5. Portoviejo\n6. Portoviejo\n7. Portoviejo\n8. Portoviejo\n9. Rocafuerte\n10. Manta\n11. Rocafuerte\n12. Portoviejo\n13. Portoviejo\n14. Portoviejo\n15. Portoviejo\n16. Portoviejo\n17. Portoviejo\n18. Rocafuerte\n19. Montecristi\n20. Manta\n21. Manta\n22. Portoviejo\n23. Portoviejo\n24. Portoviejo\n25. Manta\n26. Portoviejo\n27. Portoviejo\n28. Montecristi\n29. Portoviejo\n30. Portoviejo\n31. Portoviejo\n32. Manta\n\n\n\n**Levels**: 1. 'Bahia'\n2. 'Manta'\n3. 'Montecristi'\n4. 'Portoviejo'\n5. 'Rocafuerte'\n\n\n",
            "text/html": [
              "<style>\n",
              ".list-inline {list-style: none; margin:0; padding: 0}\n",
              ".list-inline>li {display: inline-block}\n",
              ".list-inline>li:not(:last-child)::after {content: \"\\00b7\"; padding: 0 .5ex}\n",
              "</style>\n",
              "<ol class=list-inline><li>Bahia</li><li>Portoviejo</li><li>Manta</li><li>Portoviejo</li><li>Portoviejo</li><li>Portoviejo</li><li>Portoviejo</li><li>Portoviejo</li><li>Rocafuerte</li><li>Manta</li><li>Rocafuerte</li><li>Portoviejo</li><li>Portoviejo</li><li>Portoviejo</li><li>Portoviejo</li><li>Portoviejo</li><li>Portoviejo</li><li>Rocafuerte</li><li>Montecristi</li><li>Manta</li><li>Manta</li><li>Portoviejo</li><li>Portoviejo</li><li>Portoviejo</li><li>Manta</li><li>Portoviejo</li><li>Portoviejo</li><li>Montecristi</li><li>Portoviejo</li><li>Portoviejo</li><li>Portoviejo</li><li>Manta</li></ol>\n",
              "\n",
              "<details>\n",
              "\t<summary style=display:list-item;cursor:pointer>\n",
              "\t\t<strong>Levels</strong>:\n",
              "\t</summary>\n",
              "\t<style>\n",
              "\t.list-inline {list-style: none; margin:0; padding: 0}\n",
              "\t.list-inline>li {display: inline-block}\n",
              "\t.list-inline>li:not(:last-child)::after {content: \"\\00b7\"; padding: 0 .5ex}\n",
              "\t</style>\n",
              "\t<ol class=list-inline><li>'Bahia'</li><li>'Manta'</li><li>'Montecristi'</li><li>'Portoviejo'</li><li>'Rocafuerte'</li></ol>\n",
              "</details>"
            ]
          },
          "metadata": {
            "tags": []
          }
        },
        {
          "output_type": "display_data",
          "data": {
            "text/plain": [
              "ciudad\n",
              "      Bahia       Manta Montecristi  Portoviejo  Rocafuerte \n",
              "          1           6           2          20           3 "
            ]
          },
          "metadata": {
            "tags": []
          }
        },
        {
          "output_type": "display_data",
          "data": {
            "text/plain": [
              "[1] 32"
            ],
            "text/latex": "32",
            "text/markdown": "32",
            "text/html": [
              "32"
            ]
          },
          "metadata": {
            "tags": []
          }
        },
        {
          "output_type": "display_data",
          "data": {
            "text/plain": [
              "ciudad\n",
              "      Bahia       Manta Montecristi  Portoviejo  Rocafuerte \n",
              "    0.03125     0.18750     0.06250     0.62500     0.09375 "
            ]
          },
          "metadata": {
            "tags": []
          }
        },
        {
          "output_type": "display_data",
          "data": {
            "text/plain": [
              "            fi hi      pi1   \n",
              "Bahia        1 0.03125  3.125\n",
              "Manta        6 0.18750 18.750\n",
              "Montecristi  2 0.06250  6.250\n",
              "Portoviejo  20 0.62500 62.500\n",
              "Rocafuerte   3 0.09375  9.375"
            ],
            "text/latex": "A matrix: 5 × 3 of type dbl\n\\begin{tabular}{r|lll}\n  & fi & hi & pi1\\\\\n\\hline\n\tBahia &  1 & 0.03125 &  3.125\\\\\n\tManta &  6 & 0.18750 & 18.750\\\\\n\tMontecristi &  2 & 0.06250 &  6.250\\\\\n\tPortoviejo & 20 & 0.62500 & 62.500\\\\\n\tRocafuerte &  3 & 0.09375 &  9.375\\\\\n\\end{tabular}\n",
            "text/markdown": "\nA matrix: 5 × 3 of type dbl\n\n| <!--/--> | fi | hi | pi1 |\n|---|---|---|---|\n| Bahia |  1 | 0.03125 |  3.125 |\n| Manta |  6 | 0.18750 | 18.750 |\n| Montecristi |  2 | 0.06250 |  6.250 |\n| Portoviejo | 20 | 0.62500 | 62.500 |\n| Rocafuerte |  3 | 0.09375 |  9.375 |\n\n",
            "text/html": [
              "<table class=\"dataframe\">\n",
              "<caption>A matrix: 5 × 3 of type dbl</caption>\n",
              "<thead>\n",
              "\t<tr><th></th><th scope=col>fi</th><th scope=col>hi</th><th scope=col>pi1</th></tr>\n",
              "</thead>\n",
              "<tbody>\n",
              "\t<tr><th scope=row>Bahia</th><td> 1</td><td>0.03125</td><td> 3.125</td></tr>\n",
              "\t<tr><th scope=row>Manta</th><td> 6</td><td>0.18750</td><td>18.750</td></tr>\n",
              "\t<tr><th scope=row>Montecristi</th><td> 2</td><td>0.06250</td><td> 6.250</td></tr>\n",
              "\t<tr><th scope=row>Portoviejo</th><td>20</td><td>0.62500</td><td>62.500</td></tr>\n",
              "\t<tr><th scope=row>Rocafuerte</th><td> 3</td><td>0.09375</td><td> 9.375</td></tr>\n",
              "</tbody>\n",
              "</table>\n"
            ]
          },
          "metadata": {
            "tags": []
          }
        },
        {
          "output_type": "display_data",
          "data": {
            "image/png": "[encoded data removed]",
            "text/plain": [
              "plot without title"
            ]
          },
          "metadata": {
            "tags": [],
            "image/png": {
              "width": 420,
              "height": 420
            }
          }
        }
      ]
    },
    {
      "cell_type": "code",
      "metadata": {
        "id": "j9uZ5jXm6sxw"
      },
      "source": [
        "#función \n",
        "TFVC<-function(x,titulo){ \n",
        "#Tabla de frecuencia y gráfico estadístico para variables cualitativas\n",
        "fi<-table(x)\n",
        "n<-length(x)\n",
        "hi<-fi/n\n",
        "pi1<-hi*100\n",
        "tb1<-cbind(fi,hi,pi1)\n",
        "pie(fi,main = titulo)\n",
        "#barplot(fi,main = titulo)\n",
        "return(tb1)\n",
        "}"
      ],
      "execution_count": null,
      "outputs": []
    },
    {
      "cell_type": "code",
      "metadata": {
        "colab": {
          "base_uri": "https://localhost:8080/",
          "height": 549
        },
        "id": "NC0Eh85A7oFZ",
        "outputId": "14e3ab42-d1d8-493d-9cba-986bf333de5a"
      },
      "source": [
        "#TFVC(ciudad,'Ciudad')\n",
        "sexo<-registro$Sexo\n",
        "TFVC(sexo,'sexo')\n"
      ],
      "execution_count": null,
      "outputs": [
        {
          "output_type": "display_data",
          "data": {
            "text/plain": [
              "          fi hi      pi1   \n",
              "Femenino   7 0.21875 21.875\n",
              "Masculino 25 0.78125 78.125"
            ],
            "text/latex": "A matrix: 2 × 3 of type dbl\n\\begin{tabular}{r|lll}\n  & fi & hi & pi1\\\\\n\\hline\n\tFemenino &  7 & 0.21875 & 21.875\\\\\n\tMasculino & 25 & 0.78125 & 78.125\\\\\n\\end{tabular}\n",
            "text/markdown": "\nA matrix: 2 × 3 of type dbl\n\n| <!--/--> | fi | hi | pi1 |\n|---|---|---|---|\n| Femenino |  7 | 0.21875 | 21.875 |\n| Masculino | 25 | 0.78125 | 78.125 |\n\n",
            "text/html": [
              "<table class=\"dataframe\">\n",
              "<caption>A matrix: 2 × 3 of type dbl</caption>\n",
              "<thead>\n",
              "\t<tr><th></th><th scope=col>fi</th><th scope=col>hi</th><th scope=col>pi1</th></tr>\n",
              "</thead>\n",
              "<tbody>\n",
              "\t<tr><th scope=row>Femenino</th><td> 7</td><td>0.21875</td><td>21.875</td></tr>\n",
              "\t<tr><th scope=row>Masculino</th><td>25</td><td>0.78125</td><td>78.125</td></tr>\n",
              "</tbody>\n",
              "</table>\n"
            ]
          },
          "metadata": {
            "tags": []
          }
        },
        {
          "output_type": "display_data",
          "data": {
            "image/png": "[encoded data removed]",
            "text/plain": [
              "Plot with title “sexo”"
            ]
          },
          "metadata": {
            "tags": [],
            "image/png": {
              "width": 420,
              "height": 420
            }
          }
        }
      ]
    },
    {
      "cell_type": "code",
      "metadata": {
        "id": "l82mbWH19Bzi"
      },
      "source": [
        "source('https://raw.githubusercontent.com/Emax1/R/master/FUNCIONES.R')"
      ],
      "execution_count": null,
      "outputs": []
    },
    {
      "cell_type": "code",
      "metadata": {
        "id": "PgKEeEwe9d-Z"
      },
      "source": [
        "#plot(table(registro$nhermanos))\n",
        "nhermanos<-registro$nhermanos\n",
        "TFVD<-function(x,titulo){ \n",
        "#Tabla de frecuencia y gráfico estadístico para variables discretas\n",
        "fi<-table(x)\n",
        "n<-length(x)\n",
        "hi<-fi/n\n",
        "pi1<-hi*100\n",
        "tb1<-cbind(fi,hi,pi1)\n",
        "#pie(fi,main = titulo)\n",
        "plot(fi,main = titulo)\n",
        "return(tb1)\n",
        "}"
      ],
      "execution_count": null,
      "outputs": []
    },
    {
      "cell_type": "code",
      "metadata": {
        "colab": {
          "base_uri": "https://localhost:8080/",
          "height": 675
        },
        "id": "U9sqqF0G-UP6",
        "outputId": "c8d1f651-c89b-443d-9ef1-7e69f43d6b60"
      },
      "source": [
        "TFVD(nhermanos,'Número de hermanos')"
      ],
      "execution_count": null,
      "outputs": [
        {
          "output_type": "display_data",
          "data": {
            "text/plain": [
              "  fi hi      pi1   \n",
              "1 11 0.34375 34.375\n",
              "2 11 0.34375 34.375\n",
              "3  4 0.12500 12.500\n",
              "4  1 0.03125  3.125\n",
              "7  4 0.12500 12.500\n",
              "9  1 0.03125  3.125"
            ],
            "text/latex": "A matrix: 6 × 3 of type dbl\n\\begin{tabular}{r|lll}\n  & fi & hi & pi1\\\\\n\\hline\n\t1 & 11 & 0.34375 & 34.375\\\\\n\t2 & 11 & 0.34375 & 34.375\\\\\n\t3 &  4 & 0.12500 & 12.500\\\\\n\t4 &  1 & 0.03125 &  3.125\\\\\n\t7 &  4 & 0.12500 & 12.500\\\\\n\t9 &  1 & 0.03125 &  3.125\\\\\n\\end{tabular}\n",
            "text/markdown": "\nA matrix: 6 × 3 of type dbl\n\n| <!--/--> | fi | hi | pi1 |\n|---|---|---|---|\n| 1 | 11 | 0.34375 | 34.375 |\n| 2 | 11 | 0.34375 | 34.375 |\n| 3 |  4 | 0.12500 | 12.500 |\n| 4 |  1 | 0.03125 |  3.125 |\n| 7 |  4 | 0.12500 | 12.500 |\n| 9 |  1 | 0.03125 |  3.125 |\n\n",
            "text/html": [
              "<table class=\"dataframe\">\n",
              "<caption>A matrix: 6 × 3 of type dbl</caption>\n",
              "<thead>\n",
              "\t<tr><th></th><th scope=col>fi</th><th scope=col>hi</th><th scope=col>pi1</th></tr>\n",
              "</thead>\n",
              "<tbody>\n",
              "\t<tr><th scope=row>1</th><td>11</td><td>0.34375</td><td>34.375</td></tr>\n",
              "\t<tr><th scope=row>2</th><td>11</td><td>0.34375</td><td>34.375</td></tr>\n",
              "\t<tr><th scope=row>3</th><td> 4</td><td>0.12500</td><td>12.500</td></tr>\n",
              "\t<tr><th scope=row>4</th><td> 1</td><td>0.03125</td><td> 3.125</td></tr>\n",
              "\t<tr><th scope=row>7</th><td> 4</td><td>0.12500</td><td>12.500</td></tr>\n",
              "\t<tr><th scope=row>9</th><td> 1</td><td>0.03125</td><td> 3.125</td></tr>\n",
              "</tbody>\n",
              "</table>\n"
            ]
          },
          "metadata": {
            "tags": []
          }
        },
        {
          "output_type": "display_data",
          "data": {
            "image/png": "[encoded data removed]",
            "text/plain": [
              "Plot with title “Número de hermanos”"
            ]
          },
          "metadata": {
            "tags": [],
            "image/png": {
              "width": 420,
              "height": 420
            }
          }
        }
      ]
    },
    {
      "cell_type": "markdown",
      "metadata": {
        "id": "XCJtUNLy-c9Q"
      },
      "source": [
        "Análisis:"
      ]
    },
    {
      "cell_type": "code",
      "metadata": {
        "colab": {
          "base_uri": "https://localhost:8080/",
          "height": 437
        },
        "id": "2eH7OUcI-oBR",
        "outputId": "d6561408-607a-4c46-a50a-7fe6307bb6bc"
      },
      "source": [
        "edad<-registro$edad\n",
        "#TFVC(edad,'Edad')\n",
        "#Histograma\n",
        "hist(edad)"
      ],
      "execution_count": null,
      "outputs": [
        {
          "output_type": "display_data",
          "data": {
            "image/png": "[encoded data removed]",
            "text/plain": [
              "Plot with title “Histogram of edad”"
            ]
          },
          "metadata": {
            "tags": [],
            "image/png": {
              "width": 420,
              "height": 420
            }
          }
        }
      ]
    },
    {
      "cell_type": "code",
      "metadata": {
        "colab": {
          "base_uri": "https://localhost:8080/",
          "height": 52
        },
        "id": "rMo6RUnEA5Pz",
        "outputId": "d8d4a62f-2943-4a2f-b511-334c9754ba4b"
      },
      "source": [
        "names(registro)\n",
        "attach(registro)"
      ],
      "execution_count": null,
      "outputs": [
        {
          "output_type": "display_data",
          "data": {
            "text/plain": [
              " [1] \"Marca.temporal\"               \"Nombre.completo\"             \n",
              " [3] \"Provincia.donde.se.encuentra\" \"Ciudad\"                      \n",
              " [5] \"Nacimiento\"                   \"edad\"                        \n",
              " [7] \"peso\"                         \"Estatura\"                    \n",
              " [9] \"nhermanos\"                    \"Profesion\"                   \n",
              "[11] \"Color\"                        \"SeminarioSTAT\"               \n",
              "[13] \"Excel\"                        \"Sexo\"                        "
            ],
            "text/latex": "\\begin{enumerate*}\n\\item 'Marca.temporal'\n\\item 'Nombre.completo'\n\\item 'Provincia.donde.se.encuentra'\n\\item 'Ciudad'\n\\item 'Nacimiento'\n\\item 'edad'\n\\item 'peso'\n\\item 'Estatura'\n\\item 'nhermanos'\n\\item 'Profesion'\n\\item 'Color'\n\\item 'SeminarioSTAT'\n\\item 'Excel'\n\\item 'Sexo'\n\\end{enumerate*}\n",
            "text/markdown": "1. 'Marca.temporal'\n2. 'Nombre.completo'\n3. 'Provincia.donde.se.encuentra'\n4. 'Ciudad'\n5. 'Nacimiento'\n6. 'edad'\n7. 'peso'\n8. 'Estatura'\n9. 'nhermanos'\n10. 'Profesion'\n11. 'Color'\n12. 'SeminarioSTAT'\n13. 'Excel'\n14. 'Sexo'\n\n\n",
            "text/html": [
              "<style>\n",
              ".list-inline {list-style: none; margin:0; padding: 0}\n",
              ".list-inline>li {display: inline-block}\n",
              ".list-inline>li:not(:last-child)::after {content: \"\\00b7\"; padding: 0 .5ex}\n",
              "</style>\n",
              "<ol class=list-inline><li>'Marca.temporal'</li><li>'Nombre.completo'</li><li>'Provincia.donde.se.encuentra'</li><li>'Ciudad'</li><li>'Nacimiento'</li><li>'edad'</li><li>'peso'</li><li>'Estatura'</li><li>'nhermanos'</li><li>'Profesion'</li><li>'Color'</li><li>'SeminarioSTAT'</li><li>'Excel'</li><li>'Sexo'</li></ol>\n"
            ]
          },
          "metadata": {
            "tags": []
          }
        }
      ]
    },
    {
      "cell_type": "code",
      "metadata": {
        "id": "j5k5_GO0BQBM"
      },
      "source": [
        "#detach(registro)"
      ],
      "execution_count": null,
      "outputs": []
    },
    {
      "cell_type": "code",
      "metadata": {
        "id": "rlO3DrunBe1p"
      },
      "source": [
        "calW<-function(x){\n",
        "r<-max(x)-min(x)\n",
        "n<-length(x)\n",
        "k<-1+3.32*log10(n)\n",
        "k<-round(k)\n",
        "w<-r/k\n",
        "return(w)\n",
        "}\n",
        "\n",
        "#Tabla de frecuencia y gráfico de histograma (tfCont)\n",
        "tfCont<-function(v,w,nombre){\n",
        "  k=1+3.32*log10(length(v))\n",
        "  k=round(k)\n",
        "  LS<-c()\n",
        "  LI<-c()\n",
        "  LS[1]=min(v)+w\n",
        "  LI[1]=min(v)\n",
        "  for (i in 2:k){ \n",
        "    LS[i]=LS[i-1]+w\n",
        "    LI[i]=LI[i-1]+w\n",
        "  }\n",
        "  h<-hist(v,seq(min(v),max(LS),w),plot=F)\n",
        "  fi<-h$counts\n",
        "  hi<-fi/sum(fi)\n",
        "  pi<-hi*100\n",
        "  Fi<-cumsum(fi)\n",
        "  Hi<-cumsum(hi)\n",
        "  Pi<-cumsum(pi)\n",
        "  hist(v,seq(min(v),max(LS),w),freq=FALSE,col='darkolivegreen1',plot=T,main = paste('Histograma de la Variable:',nombre))\n",
        "  lines(density(v),col=\"red\",lwd=2)\n",
        "  abline(v=mean(v),col='red')\n",
        "  abline(v=median(v),col='blue')\n",
        "  curve(dnorm(x,mean=mean(v),sd=sd(v)), from=800,to=1600,add=TRUE, col=\"blue\", lwd=2)\n",
        "  K<-1:k\n",
        "  atributos<-cbind(K,LI,LS,fi,hi,pi,Fi,Hi,Pi)\n",
        "  totales<-c(' ',' ','TOTALES',sum(fi),sum(hi),sum(pi),' ',' ',' ')\n",
        "  r<-rbind(atributos,totales)\n",
        "  return(r)\n",
        "}"
      ],
      "execution_count": null,
      "outputs": []
    },
    {
      "cell_type": "code",
      "metadata": {
        "colab": {
          "base_uri": "https://localhost:8080/",
          "height": 34
        },
        "id": "kDogGeUEDBja",
        "outputId": "dc9b8090-ec37-4538-e56d-3f973a460e39"
      },
      "source": [
        "calW(edad)"
      ],
      "execution_count": null,
      "outputs": [
        {
          "output_type": "display_data",
          "data": {
            "text/plain": [
              "[1] 5.833333"
            ],
            "text/latex": "5.83333333333333",
            "text/markdown": "5.83333333333333",
            "text/html": [
              "5.83333333333333"
            ]
          },
          "metadata": {
            "tags": []
          }
        }
      ]
    },
    {
      "cell_type": "code",
      "metadata": {
        "colab": {
          "base_uri": "https://localhost:8080/",
          "height": 706
        },
        "id": "qs__kpcECvAg",
        "outputId": "af977dd2-858c-493f-a414-1d5ec8983749"
      },
      "source": [
        "tfCont(edad,6,'EDAD')"
      ],
      "execution_count": null,
      "outputs": [
        {
          "output_type": "display_data",
          "data": {
            "text/plain": [
              "        K LI LS      fi hi      pi     Fi Hi      Pi    \n",
              "        1 22 28      8  0.25    25     8  0.25    25    \n",
              "        2 28 34      11 0.34375 34.375 19 0.59375 59.375\n",
              "        3 34 40      6  0.1875  18.75  25 0.78125 78.125\n",
              "        4 40 46      4  0.125   12.5   29 0.90625 90.625\n",
              "        5 46 52      1  0.03125 3.125  30 0.9375  93.75 \n",
              "        6 52 58      2  0.0625  6.25   32 1       100   \n",
              "totales      TOTALES 32 1       100                     "
            ],
            "text/latex": "A matrix: 7 × 9 of type chr\n\\begin{tabular}{r|lllllllll}\n  & K & LI & LS & fi & hi & pi & Fi & Hi & Pi\\\\\n\\hline\n\t & 1 & 22 & 28      & 8  & 0.25    & 25     & 8  & 0.25    & 25    \\\\\n\t & 2 & 28 & 34      & 11 & 0.34375 & 34.375 & 19 & 0.59375 & 59.375\\\\\n\t & 3 & 34 & 40      & 6  & 0.1875  & 18.75  & 25 & 0.78125 & 78.125\\\\\n\t & 4 & 40 & 46      & 4  & 0.125   & 12.5   & 29 & 0.90625 & 90.625\\\\\n\t & 5 & 46 & 52      & 1  & 0.03125 & 3.125  & 30 & 0.9375  & 93.75 \\\\\n\t & 6 & 52 & 58      & 2  & 0.0625  & 6.25   & 32 & 1       & 100   \\\\\n\ttotales &   &    & TOTALES & 32 & 1       & 100    &    &         &       \\\\\n\\end{tabular}\n",
            "text/markdown": "\nA matrix: 7 × 9 of type chr\n\n| <!--/--> | K | LI | LS | fi | hi | pi | Fi | Hi | Pi |\n|---|---|---|---|---|---|---|---|---|---|\n| <!----> | 1 | 22 | 28      | 8  | 0.25    | 25     | 8  | 0.25    | 25     |\n| <!----> | 2 | 28 | 34      | 11 | 0.34375 | 34.375 | 19 | 0.59375 | 59.375 |\n| <!----> | 3 | 34 | 40      | 6  | 0.1875  | 18.75  | 25 | 0.78125 | 78.125 |\n| <!----> | 4 | 40 | 46      | 4  | 0.125   | 12.5   | 29 | 0.90625 | 90.625 |\n| <!----> | 5 | 46 | 52      | 1  | 0.03125 | 3.125  | 30 | 0.9375  | 93.75  |\n| <!----> | 6 | 52 | 58      | 2  | 0.0625  | 6.25   | 32 | 1       | 100    |\n| totales | <!----> | <!----> | TOTALES | 32 | 1       | 100    | <!----> | <!----> | <!----> |\n\n",
            "text/html": [
              "<table class=\"dataframe\">\n",
              "<caption>A matrix: 7 × 9 of type chr</caption>\n",
              "<thead>\n",
              "\t<tr><th></th><th scope=col>K</th><th scope=col>LI</th><th scope=col>LS</th><th scope=col>fi</th><th scope=col>hi</th><th scope=col>pi</th><th scope=col>Fi</th><th scope=col>Hi</th><th scope=col>Pi</th></tr>\n",
              "</thead>\n",
              "<tbody>\n",
              "\t<tr><th scope=row></th><td>1</td><td>22</td><td>28     </td><td>8 </td><td>0.25   </td><td>25    </td><td>8 </td><td>0.25   </td><td>25    </td></tr>\n",
              "\t<tr><th scope=row></th><td>2</td><td>28</td><td>34     </td><td>11</td><td>0.34375</td><td>34.375</td><td>19</td><td>0.59375</td><td>59.375</td></tr>\n",
              "\t<tr><th scope=row></th><td>3</td><td>34</td><td>40     </td><td>6 </td><td>0.1875 </td><td>18.75 </td><td>25</td><td>0.78125</td><td>78.125</td></tr>\n",
              "\t<tr><th scope=row></th><td>4</td><td>40</td><td>46     </td><td>4 </td><td>0.125  </td><td>12.5  </td><td>29</td><td>0.90625</td><td>90.625</td></tr>\n",
              "\t<tr><th scope=row></th><td>5</td><td>46</td><td>52     </td><td>1 </td><td>0.03125</td><td>3.125 </td><td>30</td><td>0.9375 </td><td>93.75 </td></tr>\n",
              "\t<tr><th scope=row></th><td>6</td><td>52</td><td>58     </td><td>2 </td><td>0.0625 </td><td>6.25  </td><td>32</td><td>1      </td><td>100   </td></tr>\n",
              "\t<tr><th scope=row>totales</th><td> </td><td>  </td><td>TOTALES</td><td>32</td><td>1      </td><td>100   </td><td>  </td><td>       </td><td>      </td></tr>\n",
              "</tbody>\n",
              "</table>\n"
            ]
          },
          "metadata": {
            "tags": []
          }
        },
        {
          "output_type": "display_data",
          "data": {
            "image/png": "[encoded data removed]",
            "text/plain": [
              "Plot with title “Histograma de la Variable: EDAD”"
            ]
          },
          "metadata": {
            "tags": [],
            "image/png": {
              "width": 420,
              "height": 420
            }
          }
        }
      ]
    },
    {
      "cell_type": "code",
      "metadata": {
        "colab": {
          "base_uri": "https://localhost:8080/",
          "height": 34
        },
        "id": "kBkJdA8dCoFS",
        "outputId": "4c040aec-6a73-4819-8f9d-6a2a27a73d45"
      },
      "source": [
        "edad"
      ],
      "execution_count": null,
      "outputs": [
        {
          "output_type": "display_data",
          "data": {
            "text/plain": [
              " [1] 33 22 24 35 30 36 34 36 30 49 30 27 34 36 26 57 42 30 26 41 41 32 39 29 25\n",
              "[26] 44 26 30 29 27 54 38"
            ],
            "text/latex": "\\begin{enumerate*}\n\\item 33\n\\item 22\n\\item 24\n\\item 35\n\\item 30\n\\item 36\n\\item 34\n\\item 36\n\\item 30\n\\item 49\n\\item 30\n\\item 27\n\\item 34\n\\item 36\n\\item 26\n\\item 57\n\\item 42\n\\item 30\n\\item 26\n\\item 41\n\\item 41\n\\item 32\n\\item 39\n\\item 29\n\\item 25\n\\item 44\n\\item 26\n\\item 30\n\\item 29\n\\item 27\n\\item 54\n\\item 38\n\\end{enumerate*}\n",
            "text/markdown": "1. 33\n2. 22\n3. 24\n4. 35\n5. 30\n6. 36\n7. 34\n8. 36\n9. 30\n10. 49\n11. 30\n12. 27\n13. 34\n14. 36\n15. 26\n16. 57\n17. 42\n18. 30\n19. 26\n20. 41\n21. 41\n22. 32\n23. 39\n24. 29\n25. 25\n26. 44\n27. 26\n28. 30\n29. 29\n30. 27\n31. 54\n32. 38\n\n\n",
            "text/html": [
              "<style>\n",
              ".list-inline {list-style: none; margin:0; padding: 0}\n",
              ".list-inline>li {display: inline-block}\n",
              ".list-inline>li:not(:last-child)::after {content: \"\\00b7\"; padding: 0 .5ex}\n",
              "</style>\n",
              "<ol class=list-inline><li>33</li><li>22</li><li>24</li><li>35</li><li>30</li><li>36</li><li>34</li><li>36</li><li>30</li><li>49</li><li>30</li><li>27</li><li>34</li><li>36</li><li>26</li><li>57</li><li>42</li><li>30</li><li>26</li><li>41</li><li>41</li><li>32</li><li>39</li><li>29</li><li>25</li><li>44</li><li>26</li><li>30</li><li>29</li><li>27</li><li>54</li><li>38</li></ol>\n"
            ]
          },
          "metadata": {
            "tags": []
          }
        }
      ]
    },
    {
      "cell_type": "code",
      "metadata": {
        "colab": {
          "base_uri": "https://localhost:8080/",
          "height": 34
        },
        "id": "2pLJJTK8F6Iy",
        "outputId": "f06285e2-6dff-45e9-8a39-f2effac4df81"
      },
      "source": [
        "calW(peso)"
      ],
      "execution_count": null,
      "outputs": [
        {
          "output_type": "display_data",
          "data": {
            "text/plain": [
              "[1] 17.33333"
            ],
            "text/latex": "17.3333333333333",
            "text/markdown": "17.3333333333333",
            "text/html": [
              "17.3333333333333"
            ]
          },
          "metadata": {
            "tags": []
          }
        }
      ]
    },
    {
      "cell_type": "code",
      "metadata": {
        "colab": {
          "base_uri": "https://localhost:8080/",
          "height": 706
        },
        "id": "47rBw295F__6",
        "outputId": "5908d4d5-dac8-4eaf-ba81-1ebf2ac5cb3e"
      },
      "source": [
        "tfCont(peso,18,'PESO')"
      ],
      "execution_count": null,
      "outputs": [
        {
          "output_type": "display_data",
          "data": {
            "text/plain": [
              "        K LI  LS      fi hi      pi     Fi Hi      Pi    \n",
              "        1 46  64      9  0.28125 28.125 9  0.28125 28.125\n",
              "        2 64  82      7  0.21875 21.875 16 0.5     50    \n",
              "        3 82  100     13 0.40625 40.625 29 0.90625 90.625\n",
              "        4 100 118     2  0.0625  6.25   31 0.96875 96.875\n",
              "        5 118 136     0  0       0      31 0.96875 96.875\n",
              "        6 136 154     1  0.03125 3.125  32 1       100   \n",
              "totales       TOTALES 32 1       100                     "
            ],
            "text/latex": "A matrix: 7 × 9 of type chr\n\\begin{tabular}{r|lllllllll}\n  & K & LI & LS & fi & hi & pi & Fi & Hi & Pi\\\\\n\\hline\n\t & 1 & 46  & 64      & 9  & 0.28125 & 28.125 & 9  & 0.28125 & 28.125\\\\\n\t & 2 & 64  & 82      & 7  & 0.21875 & 21.875 & 16 & 0.5     & 50    \\\\\n\t & 3 & 82  & 100     & 13 & 0.40625 & 40.625 & 29 & 0.90625 & 90.625\\\\\n\t & 4 & 100 & 118     & 2  & 0.0625  & 6.25   & 31 & 0.96875 & 96.875\\\\\n\t & 5 & 118 & 136     & 0  & 0       & 0      & 31 & 0.96875 & 96.875\\\\\n\t & 6 & 136 & 154     & 1  & 0.03125 & 3.125  & 32 & 1       & 100   \\\\\n\ttotales &   &     & TOTALES & 32 & 1       & 100    &    &         &       \\\\\n\\end{tabular}\n",
            "text/markdown": "\nA matrix: 7 × 9 of type chr\n\n| <!--/--> | K | LI | LS | fi | hi | pi | Fi | Hi | Pi |\n|---|---|---|---|---|---|---|---|---|---|\n| <!----> | 1 | 46  | 64      | 9  | 0.28125 | 28.125 | 9  | 0.28125 | 28.125 |\n| <!----> | 2 | 64  | 82      | 7  | 0.21875 | 21.875 | 16 | 0.5     | 50     |\n| <!----> | 3 | 82  | 100     | 13 | 0.40625 | 40.625 | 29 | 0.90625 | 90.625 |\n| <!----> | 4 | 100 | 118     | 2  | 0.0625  | 6.25   | 31 | 0.96875 | 96.875 |\n| <!----> | 5 | 118 | 136     | 0  | 0       | 0      | 31 | 0.96875 | 96.875 |\n| <!----> | 6 | 136 | 154     | 1  | 0.03125 | 3.125  | 32 | 1       | 100    |\n| totales | <!----> | <!----> | TOTALES | 32 | 1       | 100    | <!----> | <!----> | <!----> |\n\n",
            "text/html": [
              "<table class=\"dataframe\">\n",
              "<caption>A matrix: 7 × 9 of type chr</caption>\n",
              "<thead>\n",
              "\t<tr><th></th><th scope=col>K</th><th scope=col>LI</th><th scope=col>LS</th><th scope=col>fi</th><th scope=col>hi</th><th scope=col>pi</th><th scope=col>Fi</th><th scope=col>Hi</th><th scope=col>Pi</th></tr>\n",
              "</thead>\n",
              "<tbody>\n",
              "\t<tr><th scope=row></th><td>1</td><td>46 </td><td>64     </td><td>9 </td><td>0.28125</td><td>28.125</td><td>9 </td><td>0.28125</td><td>28.125</td></tr>\n",
              "\t<tr><th scope=row></th><td>2</td><td>64 </td><td>82     </td><td>7 </td><td>0.21875</td><td>21.875</td><td>16</td><td>0.5    </td><td>50    </td></tr>\n",
              "\t<tr><th scope=row></th><td>3</td><td>82 </td><td>100    </td><td>13</td><td>0.40625</td><td>40.625</td><td>29</td><td>0.90625</td><td>90.625</td></tr>\n",
              "\t<tr><th scope=row></th><td>4</td><td>100</td><td>118    </td><td>2 </td><td>0.0625 </td><td>6.25  </td><td>31</td><td>0.96875</td><td>96.875</td></tr>\n",
              "\t<tr><th scope=row></th><td>5</td><td>118</td><td>136    </td><td>0 </td><td>0      </td><td>0     </td><td>31</td><td>0.96875</td><td>96.875</td></tr>\n",
              "\t<tr><th scope=row></th><td>6</td><td>136</td><td>154    </td><td>1 </td><td>0.03125</td><td>3.125 </td><td>32</td><td>1      </td><td>100   </td></tr>\n",
              "\t<tr><th scope=row>totales</th><td> </td><td>   </td><td>TOTALES</td><td>32</td><td>1      </td><td>100   </td><td>  </td><td>       </td><td>      </td></tr>\n",
              "</tbody>\n",
              "</table>\n"
            ]
          },
          "metadata": {
            "tags": []
          }
        },
        {
          "output_type": "display_data",
          "data": {
            "image/png": "[encoded data removed]",
            "text/plain": [
              "Plot with title “Histograma de la Variable: PESO”"
            ]
          },
          "metadata": {
            "tags": [],
            "image/png": {
              "width": 420,
              "height": 420
            }
          }
        }
      ]
    },
    {
      "cell_type": "markdown",
      "metadata": {
        "id": "52RKzL1LGvqG"
      },
      "source": [
        "Análisis:"
      ]
    },
    {
      "cell_type": "code",
      "metadata": {
        "id": "VVG4C-lqu_Zv"
      },
      "source": [
        "#FUNCIÓN DE MEDIDAS DE RESUMEN\n",
        "GrafC<-function(x){\n",
        "  #media\n",
        "  me=mean(x)\n",
        "  #mediana\n",
        "  md=median(x)\n",
        "  #Cuantiles\n",
        "  q1=as.numeric(quantile(x,0.25))\n",
        "  q2=as.numeric(quantile(x,0.50))\n",
        "  q3=as.numeric(quantile(x,0.75))\n",
        "  #MEDIDAS DE DISPERSIÃ“N\n",
        "  #rango\n",
        "  r=max(x)-min(x)\n",
        "  #Rango intercuartÃ­lico\n",
        "  iqr=q3-q1\n",
        "  #GRÃFICO DE CAJAS Y BIGOTES\n",
        "  #par(mfrow=c(1,2))\n",
        "  boxplot(x,horizontal = TRUE)\n",
        "  #plot(density(x, adjust = 5),col = 'black', lwd = 3)\n",
        "  LI=q1-1.5*iqr\n",
        "  LS=q3+1.5*iqr\n",
        "  as=3*(mean(x)-median(x))/sd(x)\n",
        "  d9<-as.numeric(quantile(x,0.9))\n",
        "  d1<-as.numeric(quantile(x,0.1))\n",
        "  k=(0.5*(q3-q1))/(d9-d1)\n",
        "  ss=var(x)\n",
        "  s=sd(x)\n",
        "  cv=s/me*100\n",
        "  numero=c(me,md,q1,q2,q3,r,iqr,LI,LS,round(as,3),k,ss,s,cv)\n",
        "  nombre=c('Media','Mediana','Q1','Q2','Q3','r','iqr','LI','LS','as','k','var','sd','cv')\n",
        "  return(cbind(nombre,numero))\n",
        "}"
      ],
      "execution_count": null,
      "outputs": []
    },
    {
      "cell_type": "code",
      "metadata": {
        "id": "cBPmLp5bxXD5"
      },
      "source": [
        "#instalar un paquete en R\n",
        "#install.packages('moments')\n",
        "library(moments)"
      ],
      "execution_count": null,
      "outputs": []
    },
    {
      "cell_type": "code",
      "metadata": {
        "colab": {
          "base_uri": "https://localhost:8080/",
          "height": 34
        },
        "id": "N75YLjRvx9oY",
        "outputId": "1b145f30-5bd9-431c-cd98-49c88991244b"
      },
      "source": [
        "skewness(edad)"
      ],
      "execution_count": null,
      "outputs": [
        {
          "output_type": "display_data",
          "data": {
            "text/plain": [
              "[1] 1.02051"
            ],
            "text/latex": "1.02051036339918",
            "text/markdown": "1.02051036339918",
            "text/html": [
              "1.02051036339918"
            ]
          },
          "metadata": {
            "tags": []
          }
        }
      ]
    },
    {
      "cell_type": "code",
      "metadata": {
        "colab": {
          "base_uri": "https://localhost:8080/",
          "height": 34
        },
        "id": "5bvWGjFXyGiS",
        "outputId": "b45684cc-d1c5-48a5-ac90-b0265f88288c"
      },
      "source": [
        "kurtosis(edad)"
      ],
      "execution_count": null,
      "outputs": [
        {
          "output_type": "display_data",
          "data": {
            "text/plain": [
              "[1] 3.622039"
            ],
            "text/latex": "3.62203945947776",
            "text/markdown": "3.62203945947776",
            "text/html": [
              "3.62203945947776"
            ]
          },
          "metadata": {
            "tags": []
          }
        }
      ]
    },
    {
      "cell_type": "markdown",
      "metadata": {
        "id": "5ptgk0FpEH_w"
      },
      "source": [
        "# ESTADÍSTICA DESCRIPTIVA\n",
        "Media\n",
        "## $\\mu$, $\\bar{x}$"
      ]
    },
    {
      "cell_type": "code",
      "metadata": {
        "colab": {
          "base_uri": "https://localhost:8080/",
          "height": 69
        },
        "id": "n5HcpiLmJWwI",
        "outputId": "a68dac9d-9a45-44b7-9e50-1bc5cbb9bdf0"
      },
      "source": [
        "#media\n",
        "sueldo<-c(1200,1500,750,900,1800,2500,1800,1250,2300)\n",
        "#sueldo\n",
        "round(mean(sueldo),2)\n",
        "sueldo2<-c(1200,1500,750,900,1800,2500,1800,1250,2300,70000)\n",
        "round(mean(sueldo2),2)\n",
        "max(sueldo2)-min(sueldo2)"
      ],
      "execution_count": null,
      "outputs": [
        {
          "output_type": "display_data",
          "data": {
            "text/plain": [
              "[1] 1555.56"
            ],
            "text/latex": "1555.56",
            "text/markdown": "1555.56",
            "text/html": [
              "1555.56"
            ]
          },
          "metadata": {
            "tags": []
          }
        },
        {
          "output_type": "display_data",
          "data": {
            "text/plain": [
              "[1] 8400"
            ],
            "text/latex": "8400",
            "text/markdown": "8400",
            "text/html": [
              "8400"
            ]
          },
          "metadata": {
            "tags": []
          }
        },
        {
          "output_type": "display_data",
          "data": {
            "text/plain": [
              "[1] 69250"
            ],
            "text/latex": "69250",
            "text/markdown": "69250",
            "text/html": [
              "69250"
            ]
          },
          "metadata": {
            "tags": []
          }
        }
      ]
    },
    {
      "cell_type": "code",
      "metadata": {
        "colab": {
          "base_uri": "https://localhost:8080/",
          "height": 86
        },
        "id": "8AAnOPEGM7rB",
        "outputId": "d0380eb8-f57d-48ae-e66a-1c1102bdef46"
      },
      "source": [
        "#mediana\n",
        "sort(sueldo2)\n",
        "length(sueldo2)\n",
        "(1500+1800)/2\n",
        "median(sueldo2)"
      ],
      "execution_count": null,
      "outputs": [
        {
          "output_type": "display_data",
          "data": {
            "text/plain": [
              " [1]   750   900  1200  1250  1500  1800  1800  2300  2500 70000"
            ],
            "text/latex": "\\begin{enumerate*}\n\\item 750\n\\item 900\n\\item 1200\n\\item 1250\n\\item 1500\n\\item 1800\n\\item 1800\n\\item 2300\n\\item 2500\n\\item 70000\n\\end{enumerate*}\n",
            "text/markdown": "1. 750\n2. 900\n3. 1200\n4. 1250\n5. 1500\n6. 1800\n7. 1800\n8. 2300\n9. 2500\n10. 70000\n\n\n",
            "text/html": [
              "<style>\n",
              ".list-inline {list-style: none; margin:0; padding: 0}\n",
              ".list-inline>li {display: inline-block}\n",
              ".list-inline>li:not(:last-child)::after {content: \"\\00b7\"; padding: 0 .5ex}\n",
              "</style>\n",
              "<ol class=list-inline><li>750</li><li>900</li><li>1200</li><li>1250</li><li>1500</li><li>1800</li><li>1800</li><li>2300</li><li>2500</li><li>70000</li></ol>\n"
            ]
          },
          "metadata": {
            "tags": []
          }
        },
        {
          "output_type": "display_data",
          "data": {
            "text/plain": [
              "[1] 10"
            ],
            "text/latex": "10",
            "text/markdown": "10",
            "text/html": [
              "10"
            ]
          },
          "metadata": {
            "tags": []
          }
        },
        {
          "output_type": "display_data",
          "data": {
            "text/plain": [
              "[1] 1650"
            ],
            "text/latex": "1650",
            "text/markdown": "1650",
            "text/html": [
              "1650"
            ]
          },
          "metadata": {
            "tags": []
          }
        },
        {
          "output_type": "display_data",
          "data": {
            "text/plain": [
              "[1] 1650"
            ],
            "text/latex": "1650",
            "text/markdown": "1650",
            "text/html": [
              "1650"
            ]
          },
          "metadata": {
            "tags": []
          }
        }
      ]
    },
    {
      "cell_type": "code",
      "metadata": {
        "colab": {
          "base_uri": "https://localhost:8080/",
          "height": 34
        },
        "id": "y7B_IqFzNeKo",
        "outputId": "f0648f8f-457c-4a81-8314-3cd36a5e3b2b"
      },
      "source": [
        "(sueldo2[5]+sueldo2[6])/2"
      ],
      "execution_count": null,
      "outputs": [
        {
          "output_type": "display_data",
          "data": {
            "text/plain": [
              "[1] 2150"
            ],
            "text/latex": "2150",
            "text/markdown": "2150",
            "text/html": [
              "2150"
            ]
          },
          "metadata": {
            "tags": []
          }
        }
      ]
    },
    {
      "cell_type": "code",
      "metadata": {
        "colab": {
          "base_uri": "https://localhost:8080/",
          "height": 127
        },
        "id": "I-Wk6oX9Qldj",
        "outputId": "3e9fd446-8638-4904-f88c-e1bfcdd4109f"
      },
      "source": [
        "table(sueldo2)\n",
        "table(registro$Sexo)"
      ],
      "execution_count": null,
      "outputs": [
        {
          "output_type": "display_data",
          "data": {
            "text/plain": [
              "sueldo2\n",
              "  750   900  1200  1250  1500  1800  2300  2500 70000 \n",
              "    1     1     1     1     1     2     1     1     1 "
            ]
          },
          "metadata": {
            "tags": []
          }
        },
        {
          "output_type": "display_data",
          "data": {
            "text/plain": [
              "\n",
              " Femenino Masculino \n",
              "        7        25 "
            ]
          },
          "metadata": {
            "tags": []
          }
        }
      ]
    },
    {
      "cell_type": "code",
      "metadata": {
        "colab": {
          "base_uri": "https://localhost:8080/",
          "height": 86
        },
        "id": "uopC2khrZn4B",
        "outputId": "ad694822-6091-4534-9e1a-8bdce62a4f75"
      },
      "source": [
        "#quantile(edad)\n",
        "#help(quantile)\n",
        "q1<-quantile(edad,0.25)\n",
        "q2<-quantile(edad,0.5)\n",
        "q3<-quantile(edad, 0.75)\n",
        "q1\n",
        "q2\n",
        "median(edad)\n",
        "q3\n",
        "d9<-quantile(edad,0.9)\n",
        "d1<-quantile(edad,0.1)\n"
      ],
      "execution_count": null,
      "outputs": [
        {
          "output_type": "display_data",
          "data": {
            "text/plain": [
              " 25% \n",
              "28.5 "
            ],
            "text/latex": "\\textbf{25\\textbackslash{}\\%:} 28.5",
            "text/markdown": "**25%:** 28.5",
            "text/html": [
              "<strong>25%:</strong> 28.5"
            ]
          },
          "metadata": {
            "tags": []
          }
        },
        {
          "output_type": "display_data",
          "data": {
            "text/plain": [
              " 50% \n",
              "32.5 "
            ],
            "text/latex": "\\textbf{50\\textbackslash{}\\%:} 32.5",
            "text/markdown": "**50%:** 32.5",
            "text/html": [
              "<strong>50%:</strong> 32.5"
            ]
          },
          "metadata": {
            "tags": []
          }
        },
        {
          "output_type": "display_data",
          "data": {
            "text/plain": [
              "[1] 32.5"
            ],
            "text/latex": "32.5",
            "text/markdown": "32.5",
            "text/html": [
              "32.5"
            ]
          },
          "metadata": {
            "tags": []
          }
        },
        {
          "output_type": "display_data",
          "data": {
            "text/plain": [
              "  75% \n",
              "38.25 "
            ],
            "text/latex": "\\textbf{75\\textbackslash{}\\%:} 38.25",
            "text/markdown": "**75%:** 38.25",
            "text/html": [
              "<strong>75%:</strong> 38.25"
            ]
          },
          "metadata": {
            "tags": []
          }
        }
      ]
    },
    {
      "cell_type": "code",
      "metadata": {
        "colab": {
          "base_uri": "https://localhost:8080/",
          "height": 69
        },
        "id": "YiTz8Xk3c2ys",
        "outputId": "e656f8c3-f5e0-4c24-d45d-5b066f6ae804"
      },
      "source": [
        "#Rango\n",
        "max(edad)-min(edad)\n",
        "\n",
        "#RIQ\n",
        "q3-q1\n",
        "IQR(edad)"
      ],
      "execution_count": null,
      "outputs": [
        {
          "output_type": "display_data",
          "data": {
            "text/plain": [
              "[1] 35"
            ],
            "text/latex": "35",
            "text/markdown": "35",
            "text/html": [
              "35"
            ]
          },
          "metadata": {
            "tags": []
          }
        },
        {
          "output_type": "display_data",
          "data": {
            "text/plain": [
              " 75% \n",
              "9.75 "
            ],
            "text/latex": "\\textbf{75\\textbackslash{}\\%:} 9.75",
            "text/markdown": "**75%:** 9.75",
            "text/html": [
              "<strong>75%:</strong> 9.75"
            ]
          },
          "metadata": {
            "tags": []
          }
        },
        {
          "output_type": "display_data",
          "data": {
            "text/plain": [
              "[1] 9.75"
            ],
            "text/latex": "9.75",
            "text/markdown": "9.75",
            "text/html": [
              "9.75"
            ]
          },
          "metadata": {
            "tags": []
          }
        }
      ]
    },
    {
      "cell_type": "markdown",
      "metadata": {
        "id": "YDq1QwCthek_"
      },
      "source": [
        "$S^{2}$, $\\sigma^{2}$"
      ]
    },
    {
      "cell_type": "code",
      "metadata": {
        "colab": {
          "base_uri": "https://localhost:8080/",
          "height": 52
        },
        "id": "pdzHLmEzbfVW",
        "outputId": "e02540ce-e348-40e9-c8d2-e3303c82ce2b"
      },
      "source": [
        "sum((edad-mean(edad))^2)/(length(edad)-1)\n",
        "var(edad)"
      ],
      "execution_count": null,
      "outputs": [
        {
          "output_type": "display_data",
          "data": {
            "text/plain": [
              "[1] 71.59677"
            ],
            "text/latex": "71.5967741935484",
            "text/markdown": "71.5967741935484",
            "text/html": [
              "71.5967741935484"
            ]
          },
          "metadata": {
            "tags": []
          }
        },
        {
          "output_type": "display_data",
          "data": {
            "text/plain": [
              "[1] 71.59677"
            ],
            "text/latex": "71.5967741935484",
            "text/markdown": "71.5967741935484",
            "text/html": [
              "71.5967741935484"
            ]
          },
          "metadata": {
            "tags": []
          }
        }
      ]
    },
    {
      "cell_type": "markdown",
      "metadata": {
        "id": "FqZzmACeipdp"
      },
      "source": [
        "$S$, $\\sigma$"
      ]
    },
    {
      "cell_type": "code",
      "metadata": {
        "colab": {
          "base_uri": "https://localhost:8080/",
          "height": 52
        },
        "id": "IHc3FXFxiojj",
        "outputId": "7db0719f-d31a-4bb7-c3d7-4480fb1a307b"
      },
      "source": [
        "sqrt(var(edad))\n",
        "sd(edad)"
      ],
      "execution_count": null,
      "outputs": [
        {
          "output_type": "display_data",
          "data": {
            "text/plain": [
              "[1] 8.461488"
            ],
            "text/latex": "8.46148770569032",
            "text/markdown": "8.46148770569032",
            "text/html": [
              "8.46148770569032"
            ]
          },
          "metadata": {
            "tags": []
          }
        },
        {
          "output_type": "display_data",
          "data": {
            "text/plain": [
              "[1] 8.461488"
            ],
            "text/latex": "8.46148770569032",
            "text/markdown": "8.46148770569032",
            "text/html": [
              "8.46148770569032"
            ]
          },
          "metadata": {
            "tags": []
          }
        }
      ]
    },
    {
      "cell_type": "code",
      "metadata": {
        "colab": {
          "base_uri": "https://localhost:8080/",
          "height": 52
        },
        "id": "xrJp-YQ3iXUi",
        "outputId": "4372caa5-9dc4-4aaf-ddb2-c3c9ccb647df"
      },
      "source": [
        "sd(peso)\n",
        "estatura<-registro$Estatura\n",
        "sd(estatura)"
      ],
      "execution_count": null,
      "outputs": [
        {
          "output_type": "display_data",
          "data": {
            "text/plain": [
              "[1] 21.98696"
            ],
            "text/latex": "21.9869600283969",
            "text/markdown": "21.9869600283969",
            "text/html": [
              "21.9869600283969"
            ]
          },
          "metadata": {
            "tags": []
          }
        },
        {
          "output_type": "display_data",
          "data": {
            "text/plain": [
              "[1] 9.179164"
            ],
            "text/latex": "9.1791642567073",
            "text/markdown": "9.1791642567073",
            "text/html": [
              "9.1791642567073"
            ]
          },
          "metadata": {
            "tags": []
          }
        }
      ]
    },
    {
      "cell_type": "code",
      "metadata": {
        "colab": {
          "base_uri": "https://localhost:8080/",
          "height": 121
        },
        "id": "Teycfq0elQYG",
        "outputId": "21ab5687-4dd5-4374-abf3-20d6219f1e1c"
      },
      "source": [
        "sumo<-c(272.25, 257.16, 247.86, 278.20, 263.01, 264.82)\n",
        "bebes<-c(2.33 , 3.34,  4.43,  6.18, 2.69 , 1.67)\n",
        "\n",
        "mean(sumo)\n",
        "var(sumo)\n",
        "sd(sumo)\n",
        "\n",
        "mean(bebes)\n",
        "var(bebes)\n",
        "sd(bebes)"
      ],
      "execution_count": null,
      "outputs": [
        {
          "output_type": "display_data",
          "data": {
            "text/plain": [
              "[1] 263.8833"
            ],
            "text/latex": "263.883333333333",
            "text/markdown": "263.883333333333",
            "text/html": [
              "263.883333333333"
            ]
          },
          "metadata": {
            "tags": []
          }
        },
        {
          "output_type": "display_data",
          "data": {
            "text/plain": [
              "[1] 115.7117"
            ],
            "text/latex": "115.711706666666",
            "text/markdown": "115.711706666666",
            "text/html": [
              "115.711706666666"
            ]
          },
          "metadata": {
            "tags": []
          }
        },
        {
          "output_type": "display_data",
          "data": {
            "text/plain": [
              "[1] 10.75694"
            ],
            "text/latex": "10.7569376063388",
            "text/markdown": "10.7569376063388",
            "text/html": [
              "10.7569376063388"
            ]
          },
          "metadata": {
            "tags": []
          }
        },
        {
          "output_type": "display_data",
          "data": {
            "text/plain": [
              "[1] 3.44"
            ],
            "text/latex": "3.44",
            "text/markdown": "3.44",
            "text/html": [
              "3.44"
            ]
          },
          "metadata": {
            "tags": []
          }
        },
        {
          "output_type": "display_data",
          "data": {
            "text/plain": [
              "[1] 2.68504"
            ],
            "text/latex": "2.68504",
            "text/markdown": "2.68504",
            "text/html": [
              "2.68504"
            ]
          },
          "metadata": {
            "tags": []
          }
        },
        {
          "output_type": "display_data",
          "data": {
            "text/plain": [
              "[1] 1.638609"
            ],
            "text/latex": "1.63860916633589",
            "text/markdown": "1.63860916633589",
            "text/html": [
              "1.63860916633589"
            ]
          },
          "metadata": {
            "tags": []
          }
        }
      ]
    },
    {
      "cell_type": "code",
      "metadata": {
        "colab": {
          "base_uri": "https://localhost:8080/",
          "height": 52
        },
        "id": "AkSS3p_cmCoI",
        "outputId": "0477cb2a-b6eb-43be-ef00-eff98bae6f81"
      },
      "source": [
        "sd(sumo)/mean(sumo)*100\n",
        "sd(bebes)/mean(bebes)*100"
      ],
      "execution_count": null,
      "outputs": [
        {
          "output_type": "display_data",
          "data": {
            "text/plain": [
              "[1] 4.076399"
            ],
            "text/latex": "4.07639901711823",
            "text/markdown": "4.07639901711823",
            "text/html": [
              "4.07639901711823"
            ]
          },
          "metadata": {
            "tags": []
          }
        },
        {
          "output_type": "display_data",
          "data": {
            "text/plain": [
              "[1] 47.63399"
            ],
            "text/latex": "47.6339873934852",
            "text/markdown": "47.6339873934852",
            "text/html": [
              "47.6339873934852"
            ]
          },
          "metadata": {
            "tags": []
          }
        }
      ]
    },
    {
      "cell_type": "code",
      "metadata": {
        "colab": {
          "base_uri": "https://localhost:8080/",
          "height": 52
        },
        "id": "lKaLwqDEpMbd",
        "outputId": "f4cec5de-a43d-4556-aaef-e959191cf8ef"
      },
      "source": [
        "#forma de los datos\n",
        "#Fisher\n",
        "as<-3*(mean(edad)-median(edad))/sd(edad)\n",
        "as\n",
        "ku<-0.5*(quantile(edad,0.75)-quantile(edad,0.25))/(quantile(edad,0.9)-quantile(edad,0.1))\n",
        "ku"
      ],
      "execution_count": null,
      "outputs": [
        {
          "output_type": "display_data",
          "data": {
            "text/plain": [
              "[1] 0.5761398"
            ],
            "text/latex": "0.576139819564068",
            "text/markdown": "0.576139819564068",
            "text/html": [
              "0.576139819564068"
            ]
          },
          "metadata": {
            "tags": []
          }
        },
        {
          "output_type": "display_data",
          "data": {
            "text/plain": [
              "      75% \n",
              "0.2738764 "
            ],
            "text/latex": "\\textbf{75\\textbackslash{}\\%:} 0.273876404494382",
            "text/markdown": "**75%:** 0.273876404494382",
            "text/html": [
              "<strong>75%:</strong> 0.273876404494382"
            ]
          },
          "metadata": {
            "tags": []
          }
        }
      ]
    },
    {
      "cell_type": "code",
      "metadata": {
        "colab": {
          "base_uri": "https://localhost:8080/",
          "height": 437
        },
        "id": "xc-bKemcr0rM",
        "outputId": "0dee26cb-bb14-407a-dac3-0c5e96098e1e"
      },
      "source": [
        "#Boxplot\n",
        "boxplot(edad,horizontal = TRUE)"
      ],
      "execution_count": null,
      "outputs": [
        {
          "output_type": "display_data",
          "data": {
            "image/png": "[encoded data removed]",
            "text/plain": [
              "plot without title"
            ]
          },
          "metadata": {
            "tags": [],
            "image/png": {
              "width": 420,
              "height": 420
            }
          }
        }
      ]
    },
    {
      "cell_type": "code",
      "metadata": {
        "colab": {
          "base_uri": "https://localhost:8080/",
          "height": 926
        },
        "id": "ji51RwXwuzd-",
        "outputId": "800937fa-22a0-4a9a-a2da-96dc5af59f77"
      },
      "source": [
        "GrafC(edad)"
      ],
      "execution_count": null,
      "outputs": [
        {
          "output_type": "display_data",
          "data": {
            "text/plain": [
              "      nombre  numero           \n",
              " [1,] Media   34.125           \n",
              " [2,] Mediana 32.5             \n",
              " [3,] Q1      28.5             \n",
              " [4,] Q2      32.5             \n",
              " [5,] Q3      38.25            \n",
              " [6,] r       35               \n",
              " [7,] iqr     9.75             \n",
              " [8,] LI      13.875           \n",
              " [9,] LS      52.875           \n",
              "[10,] as      0.576            \n",
              "[11,] k       0.273876404494382\n",
              "[12,] var     71.5967741935484 \n",
              "[13,] sd      8.46148770569032 \n",
              "[14,] cv      24.7955683683233 "
            ],
            "text/latex": "A matrix: 14 × 2 of type chr\n\\begin{tabular}{ll}\n nombre & numero\\\\\n\\hline\n\t Media   & 34.125           \\\\\n\t Mediana & 32.5             \\\\\n\t Q1      & 28.5             \\\\\n\t Q2      & 32.5             \\\\\n\t Q3      & 38.25            \\\\\n\t r       & 35               \\\\\n\t iqr     & 9.75             \\\\\n\t LI      & 13.875           \\\\\n\t LS      & 52.875           \\\\\n\t as      & 0.576            \\\\\n\t k       & 0.273876404494382\\\\\n\t var     & 71.5967741935484 \\\\\n\t sd      & 8.46148770569032 \\\\\n\t cv      & 24.7955683683233 \\\\\n\\end{tabular}\n",
            "text/markdown": "\nA matrix: 14 × 2 of type chr\n\n| nombre | numero |\n|---|---|\n| Media   | 34.125            |\n| Mediana | 32.5              |\n| Q1      | 28.5              |\n| Q2      | 32.5              |\n| Q3      | 38.25             |\n| r       | 35                |\n| iqr     | 9.75              |\n| LI      | 13.875            |\n| LS      | 52.875            |\n| as      | 0.576             |\n| k       | 0.273876404494382 |\n| var     | 71.5967741935484  |\n| sd      | 8.46148770569032  |\n| cv      | 24.7955683683233  |\n\n",
            "text/html": [
              "<table class=\"dataframe\">\n",
              "<caption>A matrix: 14 × 2 of type chr</caption>\n",
              "<thead>\n",
              "\t<tr><th scope=col>nombre</th><th scope=col>numero</th></tr>\n",
              "</thead>\n",
              "<tbody>\n",
              "\t<tr><td>Media  </td><td>34.125           </td></tr>\n",
              "\t<tr><td>Mediana</td><td>32.5             </td></tr>\n",
              "\t<tr><td>Q1     </td><td>28.5             </td></tr>\n",
              "\t<tr><td>Q2     </td><td>32.5             </td></tr>\n",
              "\t<tr><td>Q3     </td><td>38.25            </td></tr>\n",
              "\t<tr><td>r      </td><td>35               </td></tr>\n",
              "\t<tr><td>iqr    </td><td>9.75             </td></tr>\n",
              "\t<tr><td>LI     </td><td>13.875           </td></tr>\n",
              "\t<tr><td>LS     </td><td>52.875           </td></tr>\n",
              "\t<tr><td>as     </td><td>0.576            </td></tr>\n",
              "\t<tr><td>k      </td><td>0.273876404494382</td></tr>\n",
              "\t<tr><td>var    </td><td>71.5967741935484 </td></tr>\n",
              "\t<tr><td>sd     </td><td>8.46148770569032 </td></tr>\n",
              "\t<tr><td>cv     </td><td>24.7955683683233 </td></tr>\n",
              "</tbody>\n",
              "</table>\n"
            ]
          },
          "metadata": {
            "tags": []
          }
        },
        {
          "output_type": "display_data",
          "data": {
            "image/png": "[encoded data removed]",
            "text/plain": [
              "plot without title"
            ]
          },
          "metadata": {
            "tags": [],
            "image/png": {
              "width": 420,
              "height": 420
            }
          }
        }
      ]
    },
    {
      "cell_type": "markdown",
      "metadata": {
        "id": "oNW7nM0zvk-t"
      },
      "source": [
        "Análisis:"
      ]
    },
    {
      "cell_type": "markdown",
      "metadata": {
        "id": "v-xRp7DUESyN"
      },
      "source": [
        "# PROBABILIDADES"
      ]
    },
    {
      "cell_type": "markdown",
      "metadata": {
        "id": "sRxlc8YPEkNq"
      },
      "source": [
        "# TALLER 1"
      ]
    },
    {
      "cell_type": "code",
      "metadata": {
        "id": "9HARyiYa1nLo"
      },
      "source": [
        "url<-'https://raw.githubusercontent.com/Emax1/R/master/Live_20210128.csv'\n",
        "datos<-read.csv(url,header=TRUE,sep=',')"
      ],
      "execution_count": null,
      "outputs": []
    },
    {
      "cell_type": "code",
      "metadata": {
        "colab": {
          "base_uri": "https://localhost:8080/"
        },
        "id": "v5ytrMvX3DQy",
        "outputId": "1bc1cdc8-88d2-49a5-fd8d-1778ba69cb6c"
      },
      "source": [
        "dim(datos)"
      ],
      "execution_count": null,
      "outputs": [
        {
          "output_type": "display_data",
          "data": {
            "text/plain": [
              "[1] 7050   16"
            ],
            "text/latex": "\\begin{enumerate*}\n\\item 7050\n\\item 16\n\\end{enumerate*}\n",
            "text/markdown": "1. 7050\n2. 16\n\n\n",
            "text/html": [
              "<style>\n",
              ".list-inline {list-style: none; margin:0; padding: 0}\n",
              ".list-inline>li {display: inline-block}\n",
              ".list-inline>li:not(:last-child)::after {content: \"\\00b7\"; padding: 0 .5ex}\n",
              "</style>\n",
              "<ol class=list-inline><li>7050</li><li>16</li></ol>\n"
            ]
          },
          "metadata": {
            "tags": []
          }
        }
      ]
    },
    {
      "cell_type": "markdown",
      "metadata": {
        "id": "WC3nwTTvEX01"
      },
      "source": [
        "# MUESTREO Y ESTIMACIÓN"
      ]
    },
    {
      "cell_type": "markdown",
      "metadata": {
        "id": "e2YSO9rJEm9j"
      },
      "source": [
        "# PROYECTO"
      ]
    },
    {
      "cell_type": "markdown",
      "metadata": {
        "id": "p2gkPzxcEql7"
      },
      "source": [
        "# EXAMEN"
      ]
    }
  ]
}